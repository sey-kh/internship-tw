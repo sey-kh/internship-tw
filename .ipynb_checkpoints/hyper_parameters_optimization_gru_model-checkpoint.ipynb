{
 "cells": [
  {
   "cell_type": "code",
   "execution_count": 128,
   "metadata": {
    "_cell_guid": "b1076dfc-b9ad-4769-8c92-a6c4dae69d19",
    "_uuid": "8f2839f25d086af736a60e9eeb907d3b93b6e0e5"
   },
   "outputs": [],
   "source": [
    "import numpy as np # linear algebra\n",
    "import pandas as pd # data processing, CSV file I/O (e.g. pd.read_csv)\n",
    "import matplotlib.pyplot as plt\n",
    "plt.style.use('fivethirtyeight')\n",
    "from sklearn.preprocessing import MinMaxScaler\n",
    "from keras.models import Sequential\n",
    "from keras.layers import Dense, Dropout, GRU, Bidirectional, LSTM\n",
    "from keras.optimizers import SGD\n",
    "import math\n",
    "from sklearn.metrics import mean_squared_error\n",
    "import keras\n",
    "import tensorflow as tf\n",
    "from tensorflow.python.client import device_lib\n",
    "from keras import backend as K\n",
    "import sklearn"
   ]
  },
  {
   "cell_type": "code",
   "execution_count": 3,
   "metadata": {},
   "outputs": [],
   "source": [
    "# Read data from csv file, consider column 'date' as index and parse it into date object\n",
    "dataset = pd.read_csv('../input/historical_stock_prices.csv', index_col='date', parse_dates=['date'])"
   ]
  },
  {
   "cell_type": "code",
   "execution_count": 153,
   "metadata": {},
   "outputs": [],
   "source": [
    "trainSet = dataset['2017':'2017'].sort_values(by=['ticker','date'])"
   ]
  },
  {
   "cell_type": "code",
   "execution_count": 154,
   "metadata": {},
   "outputs": [
    {
     "data": {
      "text/html": [
       "<div>\n",
       "<style scoped>\n",
       "    .dataframe tbody tr th:only-of-type {\n",
       "        vertical-align: middle;\n",
       "    }\n",
       "\n",
       "    .dataframe tbody tr th {\n",
       "        vertical-align: top;\n",
       "    }\n",
       "\n",
       "    .dataframe thead th {\n",
       "        text-align: right;\n",
       "    }\n",
       "</style>\n",
       "<table border=\"1\" class=\"dataframe\">\n",
       "  <thead>\n",
       "    <tr style=\"text-align: right;\">\n",
       "      <th></th>\n",
       "      <th>ticker</th>\n",
       "      <th>open</th>\n",
       "      <th>close</th>\n",
       "      <th>adj_close</th>\n",
       "      <th>low</th>\n",
       "      <th>high</th>\n",
       "      <th>volume</th>\n",
       "    </tr>\n",
       "    <tr>\n",
       "      <th>date</th>\n",
       "      <th></th>\n",
       "      <th></th>\n",
       "      <th></th>\n",
       "      <th></th>\n",
       "      <th></th>\n",
       "      <th></th>\n",
       "      <th></th>\n",
       "    </tr>\n",
       "  </thead>\n",
       "  <tbody>\n",
       "    <tr>\n",
       "      <th>2017-01-03</th>\n",
       "      <td>A</td>\n",
       "      <td>45.930000</td>\n",
       "      <td>46.490002</td>\n",
       "      <td>45.861324</td>\n",
       "      <td>45.740002</td>\n",
       "      <td>46.750000</td>\n",
       "      <td>1739600</td>\n",
       "    </tr>\n",
       "    <tr>\n",
       "      <th>2017-01-04</th>\n",
       "      <td>A</td>\n",
       "      <td>46.930000</td>\n",
       "      <td>47.099998</td>\n",
       "      <td>46.463070</td>\n",
       "      <td>46.820000</td>\n",
       "      <td>47.380001</td>\n",
       "      <td>1821300</td>\n",
       "    </tr>\n",
       "    <tr>\n",
       "      <th>2017-01-05</th>\n",
       "      <td>A</td>\n",
       "      <td>47.049999</td>\n",
       "      <td>46.540001</td>\n",
       "      <td>45.910652</td>\n",
       "      <td>46.360001</td>\n",
       "      <td>47.070000</td>\n",
       "      <td>1503700</td>\n",
       "    </tr>\n",
       "    <tr>\n",
       "      <th>2017-01-06</th>\n",
       "      <td>A</td>\n",
       "      <td>46.630001</td>\n",
       "      <td>47.990002</td>\n",
       "      <td>47.341042</td>\n",
       "      <td>46.560001</td>\n",
       "      <td>48.070000</td>\n",
       "      <td>2883400</td>\n",
       "    </tr>\n",
       "    <tr>\n",
       "      <th>2017-01-09</th>\n",
       "      <td>A</td>\n",
       "      <td>48.009998</td>\n",
       "      <td>48.139999</td>\n",
       "      <td>47.489006</td>\n",
       "      <td>47.910000</td>\n",
       "      <td>48.560001</td>\n",
       "      <td>2575300</td>\n",
       "    </tr>\n",
       "  </tbody>\n",
       "</table>\n",
       "</div>"
      ],
      "text/plain": [
       "           ticker       open      close  adj_close        low       high  \\\n",
       "date                                                                       \n",
       "2017-01-03      A  45.930000  46.490002  45.861324  45.740002  46.750000   \n",
       "2017-01-04      A  46.930000  47.099998  46.463070  46.820000  47.380001   \n",
       "2017-01-05      A  47.049999  46.540001  45.910652  46.360001  47.070000   \n",
       "2017-01-06      A  46.630001  47.990002  47.341042  46.560001  48.070000   \n",
       "2017-01-09      A  48.009998  48.139999  47.489006  47.910000  48.560001   \n",
       "\n",
       "             volume  \n",
       "date                 \n",
       "2017-01-03  1739600  \n",
       "2017-01-04  1821300  \n",
       "2017-01-05  1503700  \n",
       "2017-01-06  2883400  \n",
       "2017-01-09  2575300  "
      ]
     },
     "execution_count": 154,
     "metadata": {},
     "output_type": "execute_result"
    }
   ],
   "source": [
    "trainSet.head()"
   ]
  },
  {
   "cell_type": "markdown",
   "metadata": {},
   "source": [
    "# Normalize each symbols independently"
   ]
  },
  {
   "cell_type": "code",
   "execution_count": 155,
   "metadata": {},
   "outputs": [],
   "source": [
    "symbols = trainSet.ticker.unique()"
   ]
  },
  {
   "cell_type": "code",
   "execution_count": 157,
   "metadata": {},
   "outputs": [
    {
     "name": "stdout",
     "output_type": "stream",
     "text": [
      "10\n"
     ]
    }
   ],
   "source": [
    "symbols = symbols[:10]\n",
    "print(len(symbols))"
   ]
  },
  {
   "cell_type": "code",
   "execution_count": 158,
   "metadata": {},
   "outputs": [],
   "source": [
    "x_train = []\n",
    "y_train = []\n",
    "scaler = {}\n",
    "timesteps = 60\n",
    "for s in symbols:\n",
    "    # normalize data\n",
    "    sc = MinMaxScaler(feature_range=(0,1))     \n",
    "    train_stock = trainSet.loc[trainSet['ticker'] == s][['adj_close']].values\n",
    "    train_stock_scaled = sc.fit_transform(train_stock)\n",
    "    scaler[s] = sc\n",
    "    # Prepare x_train y_train\n",
    "    l = len(train_stock_scaled)\n",
    "    for i in range(timesteps, l):\n",
    "        x_train.append(train_stock_scaled[i-timesteps: i, 0])\n",
    "        y_train.append(train_stock_scaled[i, 0])\n",
    "        \n",
    "X_train, Y_train = np.array(x_train), np.array(y_train)\n",
    "X_train = X_train.reshape(X_train.shape[0], X_train.shape[1], 1)"
   ]
  },
  {
   "cell_type": "code",
   "execution_count": 159,
   "metadata": {},
   "outputs": [
    {
     "data": {
      "text/plain": [
       "((1889, 60, 1), (1889,))"
      ]
     },
     "execution_count": 159,
     "metadata": {},
     "output_type": "execute_result"
    }
   ],
   "source": [
    "X_train.shape, Y_train.shape"
   ]
  },
  {
   "cell_type": "code",
   "execution_count": 161,
   "metadata": {},
   "outputs": [],
   "source": [
    "def create_model(n_neurons = 2, dropout_rate = 0.3):\n",
    "    regressorGRU = Sequential()\n",
    "    \n",
    "    # First layer\n",
    "    regressorGRU.add(GRU(units=n_neurons, input_shape=(60,1), activation = 'tanh'))\n",
    "    regressorGRU.add(Dropout(dropout_rate))\n",
    "    \n",
    "    # Top layer\n",
    "    regressorGRU.add(Dense(units=1))\n",
    "    \n",
    "    #Compile model\n",
    "    regressorGRU.compile(loss='mean_squared_error', \n",
    "                         optimizer = 'rmsprop', metrics = ['accuracy'])\n",
    "    \n",
    "    return regressorGRU"
   ]
  },
  {
   "cell_type": "code",
   "execution_count": 164,
   "metadata": {},
   "outputs": [
    {
     "name": "stdout",
     "output_type": "stream",
     "text": [
      "Fitting 2 folds for each of 18 candidates, totalling 36 fits\n"
     ]
    },
    {
     "name": "stderr",
     "output_type": "stream",
     "text": [
      "[Parallel(n_jobs=1)]: Using backend SequentialBackend with 1 concurrent workers.\n"
     ]
    },
    {
     "name": "stdout",
     "output_type": "stream",
     "text": [
      "Epoch 1/1\n",
      "944/944 [==============================] - 18s 19ms/step - loss: 250727.0360 - acc: 0.0032\n",
      "945/945 [==============================] - 8s 8ms/step\n",
      "Epoch 1/1\n",
      "945/945 [==============================] - 18s 19ms/step - loss: 180562.1894 - acc: 0.0011\n",
      "944/944 [==============================] - 8s 8ms/step\n",
      "Epoch 1/1\n",
      "944/944 [==============================] - 18s 19ms/step - loss: 250407.4566 - acc: 0.0021\n",
      "945/945 [==============================] - 8s 8ms/step\n",
      "Epoch 1/1\n",
      "945/945 [==============================] - 19s 20ms/step - loss: 180325.4061 - acc: 0.0011\n",
      "944/944 [==============================] - 8s 8ms/step\n",
      "Epoch 1/1\n",
      "944/944 [==============================] - 18s 19ms/step - loss: 249755.7474 - acc: 0.0021\n",
      "945/945 [==============================] - 8s 8ms/step\n",
      "Epoch 1/1\n",
      "945/945 [==============================] - 19s 20ms/step - loss: 180037.9054 - acc: 0.0021\n",
      "944/944 [==============================] - 8s 8ms/step\n",
      "Epoch 1/1\n",
      "944/944 [==============================] - 19s 20ms/step - loss: 246761.8702 - acc: 0.0021\n",
      "945/945 [==============================] - 8s 8ms/step\n",
      "Epoch 1/1\n",
      "945/945 [==============================] - 19s 20ms/step - loss: 178057.2100 - acc: 0.0000e+00\n",
      "944/944 [==============================] - 8s 8ms/step\n",
      "Epoch 1/1\n",
      "944/944 [==============================] - 19s 20ms/step - loss: 246652.0233 - acc: 0.0011\n",
      "945/945 [==============================] - 9s 10ms/step\n",
      "Epoch 1/1\n",
      "945/945 [==============================] - 22s 23ms/step - loss: 176588.4560 - acc: 0.0000e+00\n",
      "944/944 [==============================] - 9s 10ms/step\n",
      "Epoch 1/1\n",
      "944/944 [==============================] - ETA: 0s - loss: 246731.4553 - acc: 0.0000e+00 - ETA: 22s - loss: 248484.3214 - acc: 0.00 - ETA: 10s - loss: 245433.147 - 22s 23ms/step - loss: 245482.3162 - acc: 0.0000e+00\n",
      "945/945 [==============================] - 9s 10ms/step\n",
      "Epoch 1/1\n",
      "945/945 [==============================] - 21s 23ms/step - loss: 175650.2431 - acc: 0.0000e+00\n",
      "944/944 [==============================] - 9s 9ms/step\n",
      "Epoch 1/1\n",
      "944/944 [==============================] - 21s 22ms/step - loss: 250446.9061 - acc: 0.0032\n",
      "945/945 [==============================] - 9s 10ms/step\n",
      "Epoch 1/1\n",
      "945/945 [==============================] - 22s 23ms/step - loss: 180541.3751 - acc: 0.0021\n",
      "944/944 [==============================] - 9s 9ms/step\n",
      "Epoch 1/1\n",
      "944/944 [==============================] - 21s 22ms/step - loss: 250058.5429 - acc: 0.0021\n",
      "945/945 [==============================] - 9s 10ms/step\n",
      "Epoch 1/1\n",
      "945/945 [==============================] - 22s 23ms/step - loss: 180156.6822 - acc: 0.0021\n",
      "944/944 [==============================] - 9s 9ms/step\n",
      "Epoch 1/1\n",
      "944/944 [==============================] - 21s 23ms/step - loss: 249647.9735 - acc: 0.0011\n",
      "945/945 [==============================] - 9s 10ms/step\n",
      "Epoch 1/1\n",
      "945/945 [==============================] - 22s 23ms/step - loss: 179464.3099 - acc: 0.0021\n",
      "944/944 [==============================] - 9s 10ms/step\n",
      "Epoch 1/1\n",
      "944/944 [==============================] - 22s 24ms/step - loss: 247286.0530 - acc: 0.0042A: 46s - l\n",
      "945/945 [==============================] - 9s 10ms/step\n",
      "Epoch 1/1\n",
      "945/945 [==============================] - 22s 24ms/step - loss: 177879.6796 - acc: 0.0021\n",
      "944/944 [==============================] - 9s 10ms/step\n",
      "Epoch 1/1\n",
      "944/944 [==============================] - 23s 24ms/step - loss: 247406.6653 - acc: 0.0000e+00\n",
      "945/945 [==============================] - 9s 10ms/step\n",
      "Epoch 1/1\n",
      "945/945 [==============================] - 23s 24ms/step - loss: 177009.1555 - acc: 0.0000e+00\n",
      "944/944 [==============================] - 11s 11ms/step\n",
      "Epoch 1/1\n",
      "944/944 [==============================] - 23s 25ms/step - loss: 245220.7198 - acc: 0.0011\n",
      "945/945 [==============================] - 10s 10ms/step\n",
      "Epoch 1/1\n",
      "945/945 [==============================] - 23s 24ms/step - loss: 175988.2684 - acc: 0.0011\n",
      "944/944 [==============================] - 9s 10ms/step\n",
      "Epoch 1/1\n",
      "944/944 [==============================] - 22s 23ms/step - loss: 250450.9682 - acc: 0.0032\n",
      "945/945 [==============================] - 9s 10ms/step\n",
      "Epoch 1/1\n",
      "945/945 [==============================] - 23s 24ms/step - loss: 180567.9358 - acc: 0.0021\n",
      "944/944 [==============================] - 9s 10ms/step\n",
      "Epoch 1/1\n",
      "944/944 [==============================] - 23s 24ms/step - loss: 250383.6817 - acc: 0.0021\n",
      "945/945 [==============================] - 9s 10ms/step\n",
      "Epoch 1/1\n",
      "945/945 [==============================] - 23s 24ms/step - loss: 180281.2818 - acc: 0.0021\n",
      "944/944 [==============================] - 9s 10ms/step\n",
      "Epoch 1/1\n",
      "944/944 [==============================] - 23s 24ms/step - loss: 249909.3162 - acc: 0.0032\n",
      "945/945 [==============================] - 10s 10ms/step\n",
      "Epoch 1/1\n",
      "945/945 [==============================] - 23s 24ms/step - loss: 180307.8376 - acc: 0.0021\n",
      "944/944 [==============================] - 9s 10ms/step\n",
      "Epoch 1/1\n",
      "944/944 [==============================] - 23s 24ms/step - loss: 247239.2145 - acc: 0.0021\n",
      "945/945 [==============================] - 10s 10ms/step\n",
      "Epoch 1/1\n",
      "945/945 [==============================] - 24s 25ms/step - loss: 177651.8401 - acc: 0.0032\n",
      "944/944 [==============================] - 10s 10ms/step\n",
      "Epoch 1/1\n",
      "944/944 [==============================] - 23s 25ms/step - loss: 246964.1891 - acc: 0.0011\n",
      "945/945 [==============================] - 10s 10ms/step\n",
      "Epoch 1/1\n",
      "945/945 [==============================] - 23s 25ms/step - loss: 176706.9885 - acc: 0.0021\n",
      "944/944 [==============================] - 10s 10ms/step\n",
      "Epoch 1/1\n",
      "944/944 [==============================] - 24s 25ms/step - loss: 245195.8448 - acc: 0.0000e+00\n",
      "945/945 [==============================] - 10s 10ms/step\n",
      "Epoch 1/1\n",
      "945/945 [==============================] - 24s 25ms/step - loss: 175504.3539 - acc: 0.0000e+00\n",
      "944/944 [==============================] - 10s 10ms/step\n"
     ]
    },
    {
     "name": "stderr",
     "output_type": "stream",
     "text": [
      "[Parallel(n_jobs=1)]: Done  36 out of  36 | elapsed: 18.9min finished\n"
     ]
    },
    {
     "name": "stdout",
     "output_type": "stream",
     "text": [
      "Epoch 1/1\n",
      "1889/1889 [==============================] - 26s 14ms/step - loss: 854152.1899 - acc: 0.0011\n"
     ]
    }
   ],
   "source": [
    "from sklearn.model_selection import GridSearchCV\n",
    "from keras.wrappers.scikit_learn import KerasClassifier\n",
    "\n",
    "# Hyper parameters \n",
    "n_neurons = [20, 30,32,60,64,80]\n",
    "dropout_rate = [0.1, 0.2,0.3]\n",
    "\n",
    "\n",
    "model = KerasClassifier(build_fn=create_model)\n",
    "\n",
    "param_grid = dict(n_neurons=n_neurons, dropout_rate = dropout_rate)\n",
    "\n",
    "# Hyper parameters optimization using Grid search\n",
    "grid = GridSearchCV(estimator = model, \n",
    "                    param_grid = param_grid, \n",
    "                    cv = 2, \n",
    "                    verbose=1, \n",
    "                    n_jobs=1)\n",
    "\n",
    "grid_result = grid.fit(X_train, Y_train)"
   ]
  },
  {
   "cell_type": "code",
   "execution_count": 166,
   "metadata": {},
   "outputs": [
    {
     "name": "stdout",
     "output_type": "stream",
     "text": [
      "Best Score:  0.008999470619375331\n",
      "Best Params:  {'dropout_rate': 0.3, 'n_neurons': 30}\n"
     ]
    }
   ],
   "source": [
    "print('Best Score: ', grid_result.best_score_)\n",
    "print('Best Params: ', grid_result.best_params_)"
   ]
  }
 ],
 "metadata": {
  "kernelspec": {
   "display_name": "Python 3",
   "language": "python",
   "name": "python3"
  },
  "language_info": {
   "codemirror_mode": {
    "name": "ipython",
    "version": 3
   },
   "file_extension": ".py",
   "mimetype": "text/x-python",
   "name": "python",
   "nbconvert_exporter": "python",
   "pygments_lexer": "ipython3",
   "version": "3.6.8"
  }
 },
 "nbformat": 4,
 "nbformat_minor": 1
}
