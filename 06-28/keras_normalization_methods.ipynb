{
 "cells": [
  {
   "cell_type": "code",
   "execution_count": 2,
   "metadata": {},
   "outputs": [],
   "source": [
    "import numpy as np # linear algebra\n",
    "from sklearn.preprocessing import MinMaxScaler, StandardScaler, MaxAbsScaler, RobustScaler"
   ]
  },
  {
   "cell_type": "code",
   "execution_count": 54,
   "metadata": {},
   "outputs": [],
   "source": [
    "seq_data = [1,2,3,4,5,6]\n",
    "non_seq_data = [1,3,4,2,4,6,7,8,3,9,7,5,6,9,3,7]"
   ]
  },
  {
   "cell_type": "code",
   "execution_count": 55,
   "metadata": {},
   "outputs": [],
   "source": [
    "seq_test = np.array(seq_data)\n",
    "non_seq_test = np.array(non_seq_data)\n",
    "seq_test = seq_test.reshape(-1,1)\n",
    "non_seq_test = non_seq_test.reshape(-1,1)"
   ]
  },
  {
   "cell_type": "markdown",
   "metadata": {},
   "source": [
    "# Normalize every samples"
   ]
  },
  {
   "cell_type": "code",
   "execution_count": 65,
   "metadata": {},
   "outputs": [],
   "source": [
    "t = 3\n",
    "def make_samples(sc, data):\n",
    "    x_test = []\n",
    "    y_test = []\n",
    "    l = len(data)\n",
    "    for i in range(t, l):\n",
    "        x = data[i-t:i,0]\n",
    "        y = data[i,0]\n",
    "        x_y =[i for i in x]\n",
    "        x_y.append(y)\n",
    "        x_y = np.array(x_y)\n",
    "        x_y= x_y.reshape(-1,1)\n",
    "        \n",
    "        sc.fit(x_y)\n",
    "        x = x.reshape(-1,1)\n",
    "        y = y.reshape(-1,1)\n",
    "        x_test.append(sc.transform(x))\n",
    "        y_test.append(sc.transform(y))\n",
    "    return x_test, y_test"
   ]
  },
  {
   "cell_type": "markdown",
   "metadata": {},
   "source": [
    "# MinMaxScaler"
   ]
  },
  {
   "cell_type": "markdown",
   "metadata": {},
   "source": [
    "## Sequentially values"
   ]
  },
  {
   "cell_type": "code",
   "execution_count": 66,
   "metadata": {},
   "outputs": [],
   "source": [
    "sc = MinMaxScaler(feature_range=(0,1))\n",
    "x_test, y_test = make_samples(sc, seq_test)\n",
    "x_test, y_test = np.array(x_test), np.array(y_test)"
   ]
  },
  {
   "cell_type": "code",
   "execution_count": 67,
   "metadata": {},
   "outputs": [
    {
     "data": {
      "text/plain": [
       "array([[[0.        ],\n",
       "        [0.33333333],\n",
       "        [0.66666667]],\n",
       "\n",
       "       [[0.        ],\n",
       "        [0.33333333],\n",
       "        [0.66666667]],\n",
       "\n",
       "       [[0.        ],\n",
       "        [0.33333333],\n",
       "        [0.66666667]]])"
      ]
     },
     "execution_count": 67,
     "metadata": {},
     "output_type": "execute_result"
    }
   ],
   "source": [
    "x_test"
   ]
  },
  {
   "cell_type": "markdown",
   "metadata": {},
   "source": [
    "## Non sequentially values"
   ]
  },
  {
   "cell_type": "code",
   "execution_count": 68,
   "metadata": {},
   "outputs": [],
   "source": [
    "sc = MinMaxScaler(feature_range=(0,1))\n",
    "x_test, y_test = make_samples(sc, non_seq_test)\n",
    "x_test, y_test = np.array(x_test), np.array(y_test)"
   ]
  },
  {
   "cell_type": "code",
   "execution_count": 69,
   "metadata": {},
   "outputs": [
    {
     "data": {
      "text/plain": [
       "array([[[0.        ],\n",
       "        [0.66666667],\n",
       "        [1.        ]],\n",
       "\n",
       "       [[0.5       ],\n",
       "        [1.        ],\n",
       "        [0.        ]],\n",
       "\n",
       "       [[0.5       ],\n",
       "        [0.        ],\n",
       "        [0.5       ]],\n",
       "\n",
       "       [[0.        ],\n",
       "        [0.4       ],\n",
       "        [0.8       ]],\n",
       "\n",
       "       [[0.        ],\n",
       "        [0.5       ],\n",
       "        [0.75      ]],\n",
       "\n",
       "       [[0.6       ],\n",
       "        [0.8       ],\n",
       "        [1.        ]],\n",
       "\n",
       "       [[0.66666667],\n",
       "        [0.83333333],\n",
       "        [0.        ]],\n",
       "\n",
       "       [[0.83333333],\n",
       "        [0.        ],\n",
       "        [1.        ]],\n",
       "\n",
       "       [[0.        ],\n",
       "        [1.        ],\n",
       "        [0.66666667]],\n",
       "\n",
       "       [[1.        ],\n",
       "        [0.5       ],\n",
       "        [0.        ]],\n",
       "\n",
       "       [[0.5       ],\n",
       "        [0.        ],\n",
       "        [0.25      ]],\n",
       "\n",
       "       [[0.33333333],\n",
       "        [0.5       ],\n",
       "        [1.        ]],\n",
       "\n",
       "       [[0.5       ],\n",
       "        [1.        ],\n",
       "        [0.        ]]])"
      ]
     },
     "execution_count": 69,
     "metadata": {},
     "output_type": "execute_result"
    }
   ],
   "source": [
    "x_test"
   ]
  },
  {
   "cell_type": "markdown",
   "metadata": {},
   "source": [
    "# StandardScaler"
   ]
  },
  {
   "cell_type": "code",
   "execution_count": 59,
   "metadata": {},
   "outputs": [],
   "source": [
    "sc = StandardScaler()\n",
    "x_test, y_test = make_samples(sc, seq_test)\n",
    "x_test, y_test = np.array(x_test), np.array(y_test)"
   ]
  },
  {
   "cell_type": "code",
   "execution_count": 60,
   "metadata": {},
   "outputs": [
    {
     "data": {
      "text/plain": [
       "array([[[-1.34164079],\n",
       "        [-0.4472136 ],\n",
       "        [ 0.4472136 ]],\n",
       "\n",
       "       [[-1.34164079],\n",
       "        [-0.4472136 ],\n",
       "        [ 0.4472136 ]],\n",
       "\n",
       "       [[-1.34164079],\n",
       "        [-0.4472136 ],\n",
       "        [ 0.4472136 ]]])"
      ]
     },
     "execution_count": 60,
     "metadata": {},
     "output_type": "execute_result"
    }
   ],
   "source": [
    "x_test"
   ]
  },
  {
   "cell_type": "markdown",
   "metadata": {},
   "source": [
    "# RobustScaler"
   ]
  },
  {
   "cell_type": "code",
   "execution_count": 61,
   "metadata": {},
   "outputs": [],
   "source": [
    "sc = RobustScaler()\n",
    "x_test, y_test = make_samples(sc, seq_test)\n",
    "x_test, y_test = np.array(x_test), np.array(y_test)"
   ]
  },
  {
   "cell_type": "code",
   "execution_count": 62,
   "metadata": {},
   "outputs": [
    {
     "data": {
      "text/plain": [
       "array([[[-1.        ],\n",
       "        [-0.33333333],\n",
       "        [ 0.33333333]],\n",
       "\n",
       "       [[-1.        ],\n",
       "        [-0.33333333],\n",
       "        [ 0.33333333]],\n",
       "\n",
       "       [[-1.        ],\n",
       "        [-0.33333333],\n",
       "        [ 0.33333333]]])"
      ]
     },
     "execution_count": 62,
     "metadata": {},
     "output_type": "execute_result"
    }
   ],
   "source": [
    "x_test"
   ]
  },
  {
   "cell_type": "markdown",
   "metadata": {},
   "source": [
    "# MaxAbsScaler"
   ]
  },
  {
   "cell_type": "code",
   "execution_count": 63,
   "metadata": {},
   "outputs": [],
   "source": [
    "sc = MaxAbsScaler()\n",
    "x_test, y_test = make_samples(sc, seq_test)\n",
    "x_test, y_test = np.array(x_test), np.array(y_test)"
   ]
  },
  {
   "cell_type": "code",
   "execution_count": 64,
   "metadata": {},
   "outputs": [
    {
     "data": {
      "text/plain": [
       "array([[[0.25      ],\n",
       "        [0.5       ],\n",
       "        [0.75      ]],\n",
       "\n",
       "       [[0.4       ],\n",
       "        [0.6       ],\n",
       "        [0.8       ]],\n",
       "\n",
       "       [[0.5       ],\n",
       "        [0.66666667],\n",
       "        [0.83333333]]])"
      ]
     },
     "execution_count": 64,
     "metadata": {},
     "output_type": "execute_result"
    }
   ],
   "source": [
    "x_test"
   ]
  }
 ],
 "metadata": {
  "kernelspec": {
   "display_name": "Python 3",
   "language": "python",
   "name": "python3"
  },
  "language_info": {
   "codemirror_mode": {
    "name": "ipython",
    "version": 3
   },
   "file_extension": ".py",
   "mimetype": "text/x-python",
   "name": "python",
   "nbconvert_exporter": "python",
   "pygments_lexer": "ipython3",
   "version": "3.6.8"
  }
 },
 "nbformat": 4,
 "nbformat_minor": 2
}
