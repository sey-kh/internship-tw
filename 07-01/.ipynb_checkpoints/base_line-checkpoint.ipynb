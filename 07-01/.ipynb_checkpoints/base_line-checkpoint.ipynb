{
 "cells": [
  {
   "cell_type": "code",
   "execution_count": 1,
   "metadata": {},
   "outputs": [
    {
     "name": "stderr",
     "output_type": "stream",
     "text": [
      "Using TensorFlow backend.\n"
     ]
    }
   ],
   "source": [
    "import numpy as np # linear algebra\n",
    "import pandas as pd # data processing, CSV file I/O (e.g. pd.read_csv)\n",
    "import matplotlib.pyplot as plt\n",
    "plt.style.use('fivethirtyeight')\n",
    "from sklearn.preprocessing import MinMaxScaler\n",
    "from keras.models import Sequential\n",
    "from keras.layers import Dense, Dropout, GRU, Bidirectional, LSTM\n",
    "from keras.optimizers import SGD\n",
    "import math\n",
    "from sklearn.metrics import mean_squared_error\n",
    "import keras"
   ]
  },
  {
   "cell_type": "code",
   "execution_count": 2,
   "metadata": {},
   "outputs": [],
   "source": [
    "dataset = pd.read_csv('../input/historical_stock_prices.csv', index_col='date', parse_dates=['date'])"
   ]
  },
  {
   "cell_type": "code",
   "execution_count": 3,
   "metadata": {},
   "outputs": [],
   "source": [
    "trainSet = dataset['2015':'2017'].sort_values(by=['ticker','date'])\n",
    "testSet = dataset['2018':].sort_values(by=['ticker','date'])"
   ]
  },
  {
   "cell_type": "code",
   "execution_count": 4,
   "metadata": {},
   "outputs": [
    {
     "data": {
      "text/html": [
       "<div>\n",
       "<style scoped>\n",
       "    .dataframe tbody tr th:only-of-type {\n",
       "        vertical-align: middle;\n",
       "    }\n",
       "\n",
       "    .dataframe tbody tr th {\n",
       "        vertical-align: top;\n",
       "    }\n",
       "\n",
       "    .dataframe thead th {\n",
       "        text-align: right;\n",
       "    }\n",
       "</style>\n",
       "<table border=\"1\" class=\"dataframe\">\n",
       "  <thead>\n",
       "    <tr style=\"text-align: right;\">\n",
       "      <th></th>\n",
       "      <th>ticker</th>\n",
       "      <th>open</th>\n",
       "      <th>close</th>\n",
       "      <th>adj_close</th>\n",
       "      <th>low</th>\n",
       "      <th>high</th>\n",
       "      <th>volume</th>\n",
       "    </tr>\n",
       "    <tr>\n",
       "      <th>date</th>\n",
       "      <th></th>\n",
       "      <th></th>\n",
       "      <th></th>\n",
       "      <th></th>\n",
       "      <th></th>\n",
       "      <th></th>\n",
       "      <th></th>\n",
       "    </tr>\n",
       "  </thead>\n",
       "  <tbody>\n",
       "    <tr>\n",
       "      <th>2015-01-02</th>\n",
       "      <td>A</td>\n",
       "      <td>41.180000</td>\n",
       "      <td>40.560001</td>\n",
       "      <td>39.161114</td>\n",
       "      <td>40.369999</td>\n",
       "      <td>41.310001</td>\n",
       "      <td>1529200</td>\n",
       "    </tr>\n",
       "    <tr>\n",
       "      <th>2015-01-05</th>\n",
       "      <td>A</td>\n",
       "      <td>40.320000</td>\n",
       "      <td>39.799999</td>\n",
       "      <td>38.427319</td>\n",
       "      <td>39.700001</td>\n",
       "      <td>40.459999</td>\n",
       "      <td>2041800</td>\n",
       "    </tr>\n",
       "    <tr>\n",
       "      <th>2015-01-06</th>\n",
       "      <td>A</td>\n",
       "      <td>39.810001</td>\n",
       "      <td>39.180000</td>\n",
       "      <td>37.828701</td>\n",
       "      <td>39.020000</td>\n",
       "      <td>40.020000</td>\n",
       "      <td>2080600</td>\n",
       "    </tr>\n",
       "    <tr>\n",
       "      <th>2015-01-07</th>\n",
       "      <td>A</td>\n",
       "      <td>39.520000</td>\n",
       "      <td>39.700001</td>\n",
       "      <td>38.330769</td>\n",
       "      <td>39.290001</td>\n",
       "      <td>39.810001</td>\n",
       "      <td>3359700</td>\n",
       "    </tr>\n",
       "    <tr>\n",
       "      <th>2015-01-08</th>\n",
       "      <td>A</td>\n",
       "      <td>40.240002</td>\n",
       "      <td>40.889999</td>\n",
       "      <td>39.479725</td>\n",
       "      <td>40.180000</td>\n",
       "      <td>40.980000</td>\n",
       "      <td>2116300</td>\n",
       "    </tr>\n",
       "  </tbody>\n",
       "</table>\n",
       "</div>"
      ],
      "text/plain": [
       "           ticker       open      close   ...           low       high   volume\n",
       "date                                      ...                                  \n",
       "2015-01-02      A  41.180000  40.560001   ...     40.369999  41.310001  1529200\n",
       "2015-01-05      A  40.320000  39.799999   ...     39.700001  40.459999  2041800\n",
       "2015-01-06      A  39.810001  39.180000   ...     39.020000  40.020000  2080600\n",
       "2015-01-07      A  39.520000  39.700001   ...     39.290001  39.810001  3359700\n",
       "2015-01-08      A  40.240002  40.889999   ...     40.180000  40.980000  2116300\n",
       "\n",
       "[5 rows x 7 columns]"
      ]
     },
     "execution_count": 4,
     "metadata": {},
     "output_type": "execute_result"
    }
   ],
   "source": [
    "trainSet.head()"
   ]
  },
  {
   "cell_type": "code",
   "execution_count": 5,
   "metadata": {},
   "outputs": [],
   "source": [
    "symbols = trainSet.ticker.unique()"
   ]
  },
  {
   "cell_type": "code",
   "execution_count": 6,
   "metadata": {},
   "outputs": [],
   "source": [
    "timesteps = 60\n",
    "def make_samples(\n",
    "    data_1,\n",
    "    s):\n",
    "    \n",
    "    stop_append = {}\n",
    "    for i in prediction_intervals:\n",
    "        stop_append.update({i:False}) \n",
    "    l = len(data_1)\n",
    "    \n",
    "    for i in range(timesteps, l):\n",
    "        x_1 = data_1[i-timesteps: i, 0]\n",
    "        for j in stop_append:\n",
    "            if not stop_append[j]:\n",
    "                if i+j-1 < l:\n",
    "                    y = data_1[i+j-1,0]\n",
    "                    y = y.reshape(-1,1)\n",
    "                    x_1 = x_1.reshape(-1,1)\n",
    "                    \n",
    "                    sc = MinMaxScaler(feature_range=(0,1))\n",
    "                    sc.partial_fit(x_1)\n",
    "                    sc.partial_fit(y)\n",
    "                    \n",
    "                    train_set[s]['x_1'][j].append(sc.transform(x_1))\n",
    "                    train_set[s]['y'][j].append(sc.transform(y))\n",
    "                    \n",
    "                    if y == data_1[l-1,0]:\n",
    "                        stop_append[j] =True"
   ]
  },
  {
   "cell_type": "code",
   "execution_count": 7,
   "metadata": {},
   "outputs": [],
   "source": [
    "# Define train_set\n",
    "train_set = {}\n",
    "prediction_intervals = [1,3,5,10]\n",
    "for s in symbols:\n",
    "    train_set.update({s:{\n",
    "        'x_1':{},\n",
    "        'y':{},\n",
    "    }})\n",
    "    for i in prediction_intervals:\n",
    "        train_set[s]['x_1'][i] = []\n",
    "        train_set[s]['y'][i] = []\n",
    "            \n",
    "    data_1 = trainSet.loc[trainSet['ticker'] == s][['adj_close']].values\n",
    "        \n",
    "    make_samples(\n",
    "        data_1, \n",
    "        s)\n",
    "    \n",
    "    if s == 'AEGN':\n",
    "        break"
   ]
  },
  {
   "cell_type": "code",
   "execution_count": 8,
   "metadata": {},
   "outputs": [],
   "source": [
    "# Callback function\n",
    "es = keras.callbacks.EarlyStopping(monitor='val_loss',patience=5, mode='min', restore_best_weights=True)"
   ]
  },
  {
   "cell_type": "code",
   "execution_count": 9,
   "metadata": {},
   "outputs": [],
   "source": [
    "def make_gru_network():\n",
    "    regressorGRU = Sequential()\n",
    "    # First GRU layer with Dropout regularisation\n",
    "    \n",
    "    regressorGRU.add(GRU(units = 30, return_sequences = False, input_shape=(1,60), activation='tanh'))\n",
    "    regressorGRU.add(Dropout(0.3))\n",
    "    \n",
    "    # The output layer\n",
    "    regressorGRU.add(Dense(units=1))\n",
    "    return regressorGRU"
   ]
  },
  {
   "cell_type": "code",
   "execution_count": 10,
   "metadata": {},
   "outputs": [
    {
     "name": "stdout",
     "output_type": "stream",
     "text": [
      "(59622, 1, 60) (59622,)\n",
      "Fitting prediction interval 1  model\n",
      "Train on 41735 samples, validate on 17887 samples\n",
      "Epoch 1/100\n",
      "41735/41735 [==============================] - 4s 94us/step - loss: 0.2681 - val_loss: 0.0856\n",
      "Epoch 2/100\n",
      "41735/41735 [==============================] - 0s 2us/step - loss: 0.1180 - val_loss: 0.0611\n",
      "Epoch 3/100\n",
      "41735/41735 [==============================] - 0s 2us/step - loss: 0.0926 - val_loss: 0.0463\n",
      "Epoch 4/100\n",
      "41735/41735 [==============================] - 0s 2us/step - loss: 0.0753 - val_loss: 0.0383\n",
      "Epoch 5/100\n",
      "41735/41735 [==============================] - 0s 2us/step - loss: 0.0632 - val_loss: 0.0324\n",
      "Epoch 6/100\n",
      "41735/41735 [==============================] - 0s 2us/step - loss: 0.0567 - val_loss: 0.0354\n",
      "Epoch 7/100\n",
      "41735/41735 [==============================] - 0s 2us/step - loss: 0.0519 - val_loss: 0.0284\n",
      "Epoch 8/100\n",
      "41735/41735 [==============================] - 0s 2us/step - loss: 0.0472 - val_loss: 0.0296\n",
      "Epoch 9/100\n",
      "41735/41735 [==============================] - 0s 2us/step - loss: 0.0433 - val_loss: 0.0261\n",
      "Epoch 10/100\n",
      "41735/41735 [==============================] - 0s 2us/step - loss: 0.0415 - val_loss: 0.0289\n",
      "Epoch 11/100\n",
      "41735/41735 [==============================] - 0s 2us/step - loss: 0.0391 - val_loss: 0.0249\n",
      "Epoch 12/100\n",
      "41735/41735 [==============================] - 0s 2us/step - loss: 0.0366 - val_loss: 0.0257\n",
      "Epoch 13/100\n",
      "41735/41735 [==============================] - 0s 2us/step - loss: 0.0357 - val_loss: 0.0227\n",
      "Epoch 14/100\n",
      "41735/41735 [==============================] - 0s 2us/step - loss: 0.0354 - val_loss: 0.0255\n",
      "Epoch 15/100\n",
      "41735/41735 [==============================] - 0s 2us/step - loss: 0.0331 - val_loss: 0.0214\n",
      "Epoch 16/100\n",
      "41735/41735 [==============================] - 0s 2us/step - loss: 0.0328 - val_loss: 0.0263\n",
      "Epoch 17/100\n",
      "41735/41735 [==============================] - 0s 2us/step - loss: 0.0322 - val_loss: 0.0205\n",
      "Epoch 18/100\n",
      "41735/41735 [==============================] - 0s 2us/step - loss: 0.0310 - val_loss: 0.0249\n",
      "Epoch 19/100\n",
      "41735/41735 [==============================] - 0s 2us/step - loss: 0.0301 - val_loss: 0.0197\n",
      "Epoch 20/100\n",
      "41735/41735 [==============================] - 0s 2us/step - loss: 0.0300 - val_loss: 0.0229\n",
      "Epoch 21/100\n",
      "41735/41735 [==============================] - 0s 2us/step - loss: 0.0291 - val_loss: 0.0207\n",
      "Epoch 22/100\n",
      "41735/41735 [==============================] - 0s 2us/step - loss: 0.0293 - val_loss: 0.0209\n",
      "Epoch 23/100\n",
      "41735/41735 [==============================] - 0s 2us/step - loss: 0.0286 - val_loss: 0.0199\n",
      "Epoch 24/100\n",
      "41735/41735 [==============================] - 0s 2us/step - loss: 0.0278 - val_loss: 0.0211\n",
      "(59426, 1, 60) (59426,)\n",
      "Fitting prediction interval 3  model\n",
      "Train on 41598 samples, validate on 17828 samples\n",
      "Epoch 1/100\n",
      "41598/41598 [==============================] - 1s 20us/step - loss: 0.3423 - val_loss: 0.1514\n",
      "Epoch 2/100\n",
      "41598/41598 [==============================] - 0s 2us/step - loss: 0.1630 - val_loss: 0.0994\n",
      "Epoch 3/100\n",
      "41598/41598 [==============================] - 0s 2us/step - loss: 0.1183 - val_loss: 0.0754\n",
      "Epoch 4/100\n",
      "41598/41598 [==============================] - 0s 2us/step - loss: 0.0952 - val_loss: 0.0633\n",
      "Epoch 5/100\n",
      "41598/41598 [==============================] - 0s 2us/step - loss: 0.0804 - val_loss: 0.0562\n",
      "Epoch 6/100\n",
      "41598/41598 [==============================] - 0s 2us/step - loss: 0.0722 - val_loss: 0.0543\n",
      "Epoch 7/100\n",
      "41598/41598 [==============================] - 0s 2us/step - loss: 0.0672 - val_loss: 0.0496\n",
      "Epoch 8/100\n",
      "41598/41598 [==============================] - 0s 2us/step - loss: 0.0616 - val_loss: 0.0477\n",
      "Epoch 9/100\n",
      "41598/41598 [==============================] - 0s 2us/step - loss: 0.0596 - val_loss: 0.0455\n",
      "Epoch 10/100\n",
      "41598/41598 [==============================] - 0s 2us/step - loss: 0.0556 - val_loss: 0.0443\n",
      "Epoch 11/100\n",
      "41598/41598 [==============================] - 0s 2us/step - loss: 0.0525 - val_loss: 0.0433\n",
      "Epoch 12/100\n",
      "41598/41598 [==============================] - 0s 2us/step - loss: 0.0527 - val_loss: 0.0424\n",
      "Epoch 13/100\n",
      "41598/41598 [==============================] - 0s 2us/step - loss: 0.0496 - val_loss: 0.0401\n",
      "Epoch 14/100\n",
      "41598/41598 [==============================] - 0s 2us/step - loss: 0.0507 - val_loss: 0.0437\n",
      "Epoch 15/100\n",
      "41598/41598 [==============================] - 0s 2us/step - loss: 0.0471 - val_loss: 0.0392\n",
      "Epoch 16/100\n",
      "41598/41598 [==============================] - 0s 2us/step - loss: 0.0471 - val_loss: 0.0422\n",
      "Epoch 17/100\n",
      "41598/41598 [==============================] - 0s 2us/step - loss: 0.0470 - val_loss: 0.0400\n",
      "Epoch 18/100\n",
      "41598/41598 [==============================] - 0s 2us/step - loss: 0.0453 - val_loss: 0.0382\n",
      "Epoch 19/100\n",
      "41598/41598 [==============================] - 0s 2us/step - loss: 0.0461 - val_loss: 0.0405\n",
      "Epoch 20/100\n",
      "41598/41598 [==============================] - 0s 2us/step - loss: 0.0446 - val_loss: 0.0374\n",
      "Epoch 21/100\n",
      "41598/41598 [==============================] - 0s 2us/step - loss: 0.0447 - val_loss: 0.0397\n",
      "Epoch 22/100\n",
      "41598/41598 [==============================] - 0s 2us/step - loss: 0.0441 - val_loss: 0.0367\n",
      "Epoch 23/100\n",
      "41598/41598 [==============================] - 0s 2us/step - loss: 0.0438 - val_loss: 0.0407\n",
      "Epoch 24/100\n",
      "41598/41598 [==============================] - 0s 3us/step - loss: 0.0428 - val_loss: 0.0369\n",
      "Epoch 25/100\n",
      "41598/41598 [==============================] - 0s 2us/step - loss: 0.0435 - val_loss: 0.0381\n",
      "Epoch 26/100\n",
      "41598/41598 [==============================] - 0s 2us/step - loss: 0.0421 - val_loss: 0.0361\n",
      "Epoch 27/100\n",
      "41598/41598 [==============================] - 0s 2us/step - loss: 0.0429 - val_loss: 0.0383\n",
      "Epoch 28/100\n",
      "41598/41598 [==============================] - 0s 2us/step - loss: 0.0420 - val_loss: 0.0362\n",
      "Epoch 29/100\n",
      "41598/41598 [==============================] - 0s 2us/step - loss: 0.0424 - val_loss: 0.0385\n",
      "Epoch 30/100\n",
      "41598/41598 [==============================] - 0s 2us/step - loss: 0.0414 - val_loss: 0.0353\n",
      "Epoch 31/100\n",
      "41598/41598 [==============================] - 0s 2us/step - loss: 0.0423 - val_loss: 0.0382\n",
      "Epoch 32/100\n",
      "41598/41598 [==============================] - 0s 2us/step - loss: 0.0408 - val_loss: 0.0352\n",
      "Epoch 33/100\n",
      "41598/41598 [==============================] - 0s 2us/step - loss: 0.0419 - val_loss: 0.0378\n",
      "Epoch 34/100\n",
      "41598/41598 [==============================] - 0s 2us/step - loss: 0.0403 - val_loss: 0.0350\n",
      "Epoch 35/100\n",
      "41598/41598 [==============================] - 0s 2us/step - loss: 0.0414 - val_loss: 0.0379\n",
      "Epoch 36/100\n",
      "41598/41598 [==============================] - 0s 2us/step - loss: 0.0401 - val_loss: 0.0347\n",
      "Epoch 37/100\n",
      "41598/41598 [==============================] - 0s 2us/step - loss: 0.0413 - val_loss: 0.0372\n",
      "Epoch 38/100\n",
      "41598/41598 [==============================] - 0s 2us/step - loss: 0.0395 - val_loss: 0.0344\n",
      "Epoch 39/100\n",
      "41598/41598 [==============================] - 0s 2us/step - loss: 0.0403 - val_loss: 0.0430\n",
      "Epoch 40/100\n",
      "41598/41598 [==============================] - 0s 2us/step - loss: 0.0405 - val_loss: 0.0342\n",
      "Epoch 41/100\n",
      "41598/41598 [==============================] - 0s 2us/step - loss: 0.0392 - val_loss: 0.0394\n",
      "Epoch 42/100\n",
      "41598/41598 [==============================] - 0s 2us/step - loss: 0.0403 - val_loss: 0.0341\n",
      "Epoch 43/100\n",
      "41598/41598 [==============================] - 0s 2us/step - loss: 0.0388 - val_loss: 0.0386\n",
      "Epoch 44/100\n",
      "41598/41598 [==============================] - 0s 2us/step - loss: 0.0402 - val_loss: 0.0341\n",
      "Epoch 45/100\n",
      "41598/41598 [==============================] - 0s 2us/step - loss: 0.0385 - val_loss: 0.0351\n",
      "Epoch 46/100\n",
      "41598/41598 [==============================] - 0s 2us/step - loss: 0.0400 - val_loss: 0.0340\n",
      "Epoch 47/100\n",
      "41598/41598 [==============================] - 0s 2us/step - loss: 0.0386 - val_loss: 0.0347\n",
      "Epoch 48/100\n",
      "41598/41598 [==============================] - 0s 2us/step - loss: 0.0396 - val_loss: 0.0345\n",
      "Epoch 49/100\n",
      "41598/41598 [==============================] - 0s 2us/step - loss: 0.0386 - val_loss: 0.0342\n",
      "Epoch 50/100\n",
      "41598/41598 [==============================] - 0s 2us/step - loss: 0.0378 - val_loss: 0.0347\n",
      "Epoch 51/100\n",
      "41598/41598 [==============================] - 0s 2us/step - loss: 0.0399 - val_loss: 0.0345\n",
      "(59230, 1, 60) (59230,)\n",
      "Fitting prediction interval 5  model\n"
     ]
    },
    {
     "name": "stdout",
     "output_type": "stream",
     "text": [
      "Train on 41461 samples, validate on 17769 samples\n",
      "Epoch 1/100\n",
      "41461/41461 [==============================] - 1s 22us/step - loss: 0.1916 - val_loss: 0.0844\n",
      "Epoch 2/100\n",
      "41461/41461 [==============================] - 0s 2us/step - loss: 0.1162 - val_loss: 0.0714\n",
      "Epoch 3/100\n",
      "41461/41461 [==============================] - 0s 2us/step - loss: 0.1022 - val_loss: 0.0657\n",
      "Epoch 4/100\n",
      "41461/41461 [==============================] - 0s 2us/step - loss: 0.0930 - val_loss: 0.0633\n",
      "Epoch 5/100\n",
      "41461/41461 [==============================] - 0s 2us/step - loss: 0.0870 - val_loss: 0.0624\n",
      "Epoch 6/100\n",
      "41461/41461 [==============================] - 0s 2us/step - loss: 0.0812 - val_loss: 0.0596\n",
      "Epoch 7/100\n",
      "41461/41461 [==============================] - 0s 3us/step - loss: 0.0765 - val_loss: 0.0590\n",
      "Epoch 8/100\n",
      "41461/41461 [==============================] - 0s 3us/step - loss: 0.0725 - val_loss: 0.0593\n",
      "Epoch 9/100\n",
      "41461/41461 [==============================] - 0s 2us/step - loss: 0.0710 - val_loss: 0.0555\n",
      "Epoch 10/100\n",
      "41461/41461 [==============================] - 0s 2us/step - loss: 0.0670 - val_loss: 0.0568\n",
      "Epoch 11/100\n",
      "41461/41461 [==============================] - 0s 2us/step - loss: 0.0656 - val_loss: 0.0556\n",
      "Epoch 12/100\n",
      "41461/41461 [==============================] - 0s 2us/step - loss: 0.0648 - val_loss: 0.0554\n",
      "Epoch 13/100\n",
      "41461/41461 [==============================] - 0s 2us/step - loss: 0.0635 - val_loss: 0.0537\n",
      "Epoch 14/100\n",
      "41461/41461 [==============================] - 0s 2us/step - loss: 0.0610 - val_loss: 0.0539\n",
      "Epoch 15/100\n",
      "41461/41461 [==============================] - 0s 2us/step - loss: 0.0608 - val_loss: 0.0534\n",
      "Epoch 16/100\n",
      "41461/41461 [==============================] - 0s 2us/step - loss: 0.0607 - val_loss: 0.0549\n",
      "Epoch 17/100\n",
      "41461/41461 [==============================] - 0s 2us/step - loss: 0.0592 - val_loss: 0.0526\n",
      "Epoch 18/100\n",
      "41461/41461 [==============================] - 0s 2us/step - loss: 0.0588 - val_loss: 0.0534\n",
      "Epoch 19/100\n",
      "41461/41461 [==============================] - 0s 3us/step - loss: 0.0582 - val_loss: 0.0521\n",
      "Epoch 20/100\n",
      "41461/41461 [==============================] - 0s 2us/step - loss: 0.0586 - val_loss: 0.0543\n",
      "Epoch 21/100\n",
      "41461/41461 [==============================] - 0s 2us/step - loss: 0.0564 - val_loss: 0.0511\n",
      "Epoch 22/100\n",
      "41461/41461 [==============================] - 0s 2us/step - loss: 0.0574 - val_loss: 0.0531\n",
      "Epoch 23/100\n",
      "41461/41461 [==============================] - 0s 2us/step - loss: 0.0563 - val_loss: 0.0510\n",
      "Epoch 24/100\n",
      "41461/41461 [==============================] - 0s 2us/step - loss: 0.0564 - val_loss: 0.0540\n",
      "Epoch 25/100\n",
      "41461/41461 [==============================] - 0s 2us/step - loss: 0.0566 - val_loss: 0.0505\n",
      "Epoch 26/100\n",
      "41461/41461 [==============================] - 0s 2us/step - loss: 0.0551 - val_loss: 0.0565\n",
      "Epoch 27/100\n",
      "41461/41461 [==============================] - 0s 2us/step - loss: 0.0553 - val_loss: 0.0502\n",
      "Epoch 28/100\n",
      "41461/41461 [==============================] - 0s 2us/step - loss: 0.0562 - val_loss: 0.0522\n",
      "Epoch 29/100\n",
      "41461/41461 [==============================] - 0s 2us/step - loss: 0.0537 - val_loss: 0.0499\n",
      "Epoch 30/100\n",
      "41461/41461 [==============================] - 0s 2us/step - loss: 0.0556 - val_loss: 0.0530\n",
      "Epoch 31/100\n",
      "41461/41461 [==============================] - 0s 2us/step - loss: 0.0537 - val_loss: 0.0497\n",
      "Epoch 32/100\n",
      "41461/41461 [==============================] - 0s 2us/step - loss: 0.0550 - val_loss: 0.0524\n",
      "Epoch 33/100\n",
      "41461/41461 [==============================] - 0s 2us/step - loss: 0.0537 - val_loss: 0.0498\n",
      "Epoch 34/100\n",
      "41461/41461 [==============================] - 0s 2us/step - loss: 0.0538 - val_loss: 0.0517\n",
      "Epoch 35/100\n",
      "41461/41461 [==============================] - 0s 3us/step - loss: 0.0540 - val_loss: 0.0501\n",
      "Epoch 36/100\n",
      "41461/41461 [==============================] - 0s 2us/step - loss: 0.0537 - val_loss: 0.0509\n",
      "(58740, 1, 60) (58740,)\n",
      "Fitting prediction interval 10  model\n",
      "Train on 41118 samples, validate on 17622 samples\n",
      "Epoch 1/100\n",
      "41118/41118 [==============================] - 1s 25us/step - loss: 0.2099 - val_loss: 0.1086\n",
      "Epoch 2/100\n",
      "41118/41118 [==============================] - 0s 2us/step - loss: 0.1401 - val_loss: 0.0907\n",
      "Epoch 3/100\n",
      "41118/41118 [==============================] - 0s 2us/step - loss: 0.1238 - val_loss: 0.0901\n",
      "Epoch 4/100\n",
      "41118/41118 [==============================] - 0s 2us/step - loss: 0.1109 - val_loss: 0.0813\n",
      "Epoch 5/100\n",
      "41118/41118 [==============================] - 0s 2us/step - loss: 0.1053 - val_loss: 0.0815\n",
      "Epoch 6/100\n",
      "41118/41118 [==============================] - 0s 3us/step - loss: 0.0991 - val_loss: 0.0777\n",
      "Epoch 7/100\n",
      "41118/41118 [==============================] - 0s 2us/step - loss: 0.0951 - val_loss: 0.0798\n",
      "Epoch 8/100\n",
      "41118/41118 [==============================] - 0s 2us/step - loss: 0.0902 - val_loss: 0.0747\n",
      "Epoch 9/100\n",
      "41118/41118 [==============================] - 0s 2us/step - loss: 0.0869 - val_loss: 0.0759\n",
      "Epoch 10/100\n",
      "41118/41118 [==============================] - 0s 2us/step - loss: 0.0842 - val_loss: 0.0745\n",
      "Epoch 11/100\n",
      "41118/41118 [==============================] - 0s 2us/step - loss: 0.0834 - val_loss: 0.0735\n",
      "Epoch 12/100\n",
      "41118/41118 [==============================] - 0s 2us/step - loss: 0.0803 - val_loss: 0.0715\n",
      "Epoch 13/100\n",
      "41118/41118 [==============================] - 0s 2us/step - loss: 0.0802 - val_loss: 0.0726\n",
      "Epoch 14/100\n",
      "41118/41118 [==============================] - 0s 2us/step - loss: 0.0781 - val_loss: 0.0709\n",
      "Epoch 15/100\n",
      "41118/41118 [==============================] - 0s 2us/step - loss: 0.0784 - val_loss: 0.0726\n",
      "Epoch 16/100\n",
      "41118/41118 [==============================] - 0s 3us/step - loss: 0.0763 - val_loss: 0.0706\n",
      "Epoch 17/100\n",
      "41118/41118 [==============================] - 0s 2us/step - loss: 0.0786 - val_loss: 0.0752\n",
      "Epoch 18/100\n",
      "41118/41118 [==============================] - 0s 2us/step - loss: 0.0762 - val_loss: 0.0706\n",
      "Epoch 19/100\n",
      "41118/41118 [==============================] - 0s 2us/step - loss: 0.0759 - val_loss: 0.0717\n",
      "Epoch 20/100\n",
      "41118/41118 [==============================] - 0s 2us/step - loss: 0.0760 - val_loss: 0.0702\n",
      "Epoch 21/100\n",
      "41118/41118 [==============================] - 0s 3us/step - loss: 0.0748 - val_loss: 0.0727\n",
      "Epoch 22/100\n",
      "41118/41118 [==============================] - 0s 2us/step - loss: 0.0748 - val_loss: 0.0704\n",
      "Epoch 23/100\n",
      "41118/41118 [==============================] - 0s 2us/step - loss: 0.0755 - val_loss: 0.0732\n",
      "Epoch 24/100\n",
      "41118/41118 [==============================] - 0s 3us/step - loss: 0.0750 - val_loss: 0.0701\n",
      "Epoch 25/100\n",
      "41118/41118 [==============================] - 0s 2us/step - loss: 0.0743 - val_loss: 0.0721\n",
      "Epoch 26/100\n",
      "41118/41118 [==============================] - 0s 3us/step - loss: 0.0748 - val_loss: 0.0699\n",
      "Epoch 27/100\n",
      "41118/41118 [==============================] - 0s 2us/step - loss: 0.0743 - val_loss: 0.0735\n",
      "Epoch 28/100\n",
      "41118/41118 [==============================] - 0s 3us/step - loss: 0.0738 - val_loss: 0.0697\n",
      "Epoch 29/100\n",
      "41118/41118 [==============================] - 0s 2us/step - loss: 0.0737 - val_loss: 0.0716\n",
      "Epoch 30/100\n",
      "41118/41118 [==============================] - 0s 3us/step - loss: 0.0740 - val_loss: 0.0696\n",
      "Epoch 31/100\n",
      "41118/41118 [==============================] - 0s 2us/step - loss: 0.0737 - val_loss: 0.0731\n",
      "Epoch 32/100\n",
      "41118/41118 [==============================] - 0s 3us/step - loss: 0.0732 - val_loss: 0.0696\n",
      "Epoch 33/100\n",
      "41118/41118 [==============================] - 0s 3us/step - loss: 0.0735 - val_loss: 0.0719\n",
      "Epoch 34/100\n",
      "41118/41118 [==============================] - 0s 3us/step - loss: 0.0746 - val_loss: 0.0696\n",
      "Epoch 35/100\n",
      "41118/41118 [==============================] - 0s 2us/step - loss: 0.0734 - val_loss: 0.0727\n",
      "Epoch 36/100\n",
      "41118/41118 [==============================] - 0s 2us/step - loss: 0.0732 - val_loss: 0.0706\n",
      "Epoch 37/100\n",
      "41118/41118 [==============================] - 0s 2us/step - loss: 0.0734 - val_loss: 0.0784\n",
      "Epoch 38/100\n",
      "41118/41118 [==============================] - 0s 3us/step - loss: 0.0731 - val_loss: 0.0698\n",
      "Epoch 39/100\n",
      "41118/41118 [==============================] - 0s 3us/step - loss: 0.0730 - val_loss: 0.0765\n"
     ]
    }
   ],
   "source": [
    "# Training model with one feature train_set\n",
    "model = {}\n",
    "model_history = {}\n",
    "for i in prediction_intervals:\n",
    "    model[i] = make_gru_network()\n",
    "    model[i].compile(optimizer='rmsprop', loss='mean_squared_error')\n",
    "    \n",
    "    n_epoch = 100\n",
    "    x_train = []\n",
    "    y_train = []\n",
    "    \n",
    "    for s in train_set:\n",
    "        for j in range (0, len(train_set[s]['x_1'][i])):\n",
    "            x = [\n",
    "                train_set[s]['x_1'][i][j],\n",
    "            ]\n",
    "            x_train.append(x)\n",
    "        for j in train_set[s]['y'][i]:\n",
    "            y_train.append(j)\n",
    "    X_train, Y_train = np.array(x_train), np.array(y_train)\n",
    "    X_train = X_train.reshape(X_train.shape[0], X_train.shape[1], X_train.shape[2])\n",
    "    Y_train = Y_train.reshape(Y_train.shape[0])\n",
    "    \n",
    "    print(X_train.shape, Y_train.shape)\n",
    "    print('Fitting prediction interval {}  model'.format(i))\n",
    "    model_history[i] = model[i].fit(X_train, Y_train, epochs = n_epoch, batch_size = 6000, \n",
    "                                    validation_split = 0.3,callbacks=[es])"
   ]
  },
  {
   "cell_type": "code",
   "execution_count": 11,
   "metadata": {},
   "outputs": [
    {
     "data": {
      "image/png": "[encoded data removed]",
      "text/plain": [
       "<Figure size 432x288 with 1 Axes>"
      ]
     },
     "metadata": {
      "needs_background": "light"
     },
     "output_type": "display_data"
    },
    {
     "data": {
      "image/png": "[encoded data removed]",
      "text/plain": [
       "<Figure size 432x288 with 1 Axes>"
      ]
     },
     "metadata": {
      "needs_background": "light"
     },
     "output_type": "display_data"
    }
   ],
   "source": [
    "for i in [1,10]:\n",
    "    plt.plot(model_history[i].history['val_loss'])\n",
    "    plt.plot(model_history[i].history['loss'])\n",
    "    plt.title('Model Loss of Interval {}'.format(i))\n",
    "    plt.ylabel('loss')\n",
    "    plt.xlabel('epoch')\n",
    "    plt.legend(['val_loss', 'loss'], loc='upper right')\n",
    "    plt.show()"
   ]
  },
  {
   "cell_type": "markdown",
   "metadata": {},
   "source": [
    "# Test our model"
   ]
  },
  {
   "cell_type": "code",
   "execution_count": 12,
   "metadata": {},
   "outputs": [],
   "source": [
    "# Calculate Mean squared_error\n",
    "def return_mse(test,predicted):\n",
    "    mse = mean_squared_error(test, predicted)\n",
    "    return mse"
   ]
  },
  {
   "cell_type": "code",
   "execution_count": 13,
   "metadata": {},
   "outputs": [],
   "source": [
    "# Plotting graph\n",
    "def plotting_graph(y_test, y_pred, ticker, des):\n",
    "    plt.plot(y_test, color='green', label='Actual adj_close value')\n",
    "    plt.plot(y_pred, color='red', label='Predicted adj_close value')\n",
    "    plt.title('Prediction of {} on {}'.format(ticker, des))\n",
    "    plt.xlabel('Time steps')\n",
    "    plt.ylabel('adj_close value')\n",
    "    plt.legend()\n",
    "    plt.show()"
   ]
  },
  {
   "cell_type": "code",
   "execution_count": 14,
   "metadata": {},
   "outputs": [],
   "source": [
    "def make_test_data(s):\n",
    "    scaler = {s:{}}\n",
    "    test_set = {s:{}}\n",
    "    test_set.update({s:{\n",
    "            'x_1':{},\n",
    "            'y':{},\n",
    "        }})\n",
    "    for i in prediction_intervals:\n",
    "            test_set[s]['x_1'][i] = []\n",
    "            test_set[s]['y'][i] = []\n",
    "            scaler[s][i] = []\n",
    "\n",
    "    data_1 = testSet.loc[testSet['ticker'] == s][['adj_close']].values\n",
    "    \n",
    "    stop_append = {}\n",
    "    for i in prediction_intervals:\n",
    "        stop_append.update({i:False}) \n",
    "    l = len(data_1)\n",
    "\n",
    "    for i in range(timesteps, l):\n",
    "        x_1 = data_1[i-timesteps: i, 0]\n",
    "        for j in stop_append:\n",
    "            if not stop_append[j]:\n",
    "                if i+j-1 < l:\n",
    "                    y = data_1[i+j-1,0]\n",
    "                    y = y.reshape(-1,1)\n",
    "                    x_1 = x_1.reshape(-1,1)\n",
    "                    \n",
    "                    sc = MinMaxScaler(feature_range=(0,1))\n",
    "                    sc.partial_fit(x_1)\n",
    "                    sc.partial_fit(y)\n",
    "                    scaler[s][j].append(sc)\n",
    "                    \n",
    "                    test_set[s]['x_1'][j].append(sc.transform(x_1))\n",
    "                    test_set[s]['y'][j].append(y)\n",
    "                    \n",
    "                    if y == data_1[l-1,0]:\n",
    "                        stop_append[j] =True\n",
    "                    \n",
    "    return test_set, scaler"
   ]
  },
  {
   "cell_type": "code",
   "execution_count": 15,
   "metadata": {},
   "outputs": [],
   "source": [
    "def make_prediction(data, s, scaler):\n",
    "    mse_val = {}\n",
    "    y_true_val = {}\n",
    "    y_pred_val = {}\n",
    "    \n",
    "    for i in prediction_intervals:\n",
    "        x_test = []\n",
    "        for j in range (0, len(data[s]['x_1'][i])):\n",
    "            x = [\n",
    "                data[s]['x_1'][i][j],\n",
    "            ]\n",
    "            x_test.append(x)\n",
    "\n",
    "        X_test = np.array(x_test)\n",
    "        X_test = X_test.reshape(X_test.shape[0], X_test.shape[1], X_test.shape[2])\n",
    "        \n",
    "        result = model[i].predict(X_test)\n",
    "        \n",
    "        y_pred = []\n",
    "        for j in range(0,len(result)):\n",
    "            y = result[j]\n",
    "            y = y.reshape(-1,1)\n",
    "            k = scaler[s][i][j].inverse_transform(y)\n",
    "            y_pred.append(k[0][0])\n",
    "                    \n",
    "        y_test = data[s]['y'][i]\n",
    "        y_true = np.array(y_test)\n",
    "        y_true = y_true.reshape(y_true.shape[0])\n",
    "    \n",
    "        y_true_val[i] = y_true\n",
    "        y_pred_val[i] = y_pred\n",
    "\n",
    "        mse_val[i] = return_mse(y_true, y_pred) \n",
    "    return y_true_val, y_pred_val, mse_val"
   ]
  },
  {
   "cell_type": "markdown",
   "metadata": {},
   "source": [
    "## Predicting test sample"
   ]
  },
  {
   "cell_type": "code",
   "execution_count": 16,
   "metadata": {},
   "outputs": [
    {
     "name": "stdout",
     "output_type": "stream",
     "text": [
      "Test Set -> MSE of AAPL inveral 1: 13.07108573863191\n",
      "Test Set -> MSE of AAPL inveral 3: 26.331608602896353\n",
      "Test Set -> MSE of AAPL inveral 5: 44.36055767650991\n",
      "Test Set -> MSE of AAPL inveral 10: 75.51664314480574\n"
     ]
    }
   ],
   "source": [
    "s = 'AAPL'\n",
    "data, sc = make_test_data(s)\n",
    "y_true_val, y_pred_val, mse_val = make_prediction(data, s, sc)\n",
    "\n",
    "for i in mse_val:\n",
    "    print('Test Set -> MSE of {} inveral {}: {}'.format(s, i, mse_val[i]))"
   ]
  },
  {
   "cell_type": "code",
   "execution_count": 17,
   "metadata": {},
   "outputs": [
    {
     "data": {
      "image/png": "[encoded data removed]",
      "text/plain": [
       "<Figure size 432x288 with 1 Axes>"
      ]
     },
     "metadata": {
      "needs_background": "light"
     },
     "output_type": "display_data"
    },
    {
     "data": {
      "image/png": "[encoded data removed]",
      "text/plain": [
       "<Figure size 432x288 with 1 Axes>"
      ]
     },
     "metadata": {
      "needs_background": "light"
     },
     "output_type": "display_data"
    }
   ],
   "source": [
    "for i in [1,10]:\n",
    "    plotting_graph(y_true_val[i], y_pred_val[i], s, 'Test Set interval {}'.format(i))"
   ]
  },
  {
   "cell_type": "markdown",
   "metadata": {},
   "source": [
    "# MSE of 5 symbols"
   ]
  },
  {
   "cell_type": "code",
   "execution_count": 18,
   "metadata": {},
   "outputs": [],
   "source": [
    "test_symbols = ['A', 'ACER', 'MSFT', 'ABC', 'AAPL',]"
   ]
  },
  {
   "cell_type": "code",
   "execution_count": 19,
   "metadata": {},
   "outputs": [],
   "source": [
    "all_mse = {}\n",
    "for s in test_symbols:\n",
    "    all_mse[s] = {}\n",
    "    data, sc = make_test_data(s)\n",
    "    y_true_val, y_pred_val, mse_val = make_prediction(data, s, sc)\n",
    "    for i in prediction_intervals:\n",
    "        all_mse[s][i] = mse_val[i]\n",
    "        all_mse[s][i] = mse_val[i]"
   ]
  },
  {
   "cell_type": "code",
   "execution_count": 20,
   "metadata": {},
   "outputs": [],
   "source": [
    "all_mse_1 = []\n",
    "all_mse_10 = []\n",
    "for s in all_mse:\n",
    "    all_mse_1.append(round(all_mse[s][1], 2))\n",
    "    all_mse_10.append(round(all_mse[s][10], 2))"
   ]
  },
  {
   "cell_type": "code",
   "execution_count": 21,
   "metadata": {},
   "outputs": [
    {
     "data": {
      "text/plain": [
       "[1.8, 1.32, 2.22, 4.43, 13.07]"
      ]
     },
     "execution_count": 21,
     "metadata": {},
     "output_type": "execute_result"
    }
   ],
   "source": [
    "all_mse_1"
   ]
  },
  {
   "cell_type": "code",
   "execution_count": 22,
   "metadata": {},
   "outputs": [
    {
     "data": {
      "text/plain": [
       "[4.03, 5.3, 9.26, 20.13, 75.52]"
      ]
     },
     "execution_count": 22,
     "metadata": {},
     "output_type": "execute_result"
    }
   ],
   "source": [
    "all_mse_10"
   ]
  },
  {
   "cell_type": "code",
   "execution_count": 23,
   "metadata": {},
   "outputs": [
    {
     "name": "stdout",
     "output_type": "stream",
     "text": [
      "MSE of Interval 10 = 2.2 Interval 1\n",
      "MSE of Interval 10 = 4.0 Interval 1\n",
      "MSE of Interval 10 = 4.2 Interval 1\n",
      "MSE of Interval 10 = 4.5 Interval 1\n",
      "MSE of Interval 10 = 5.8 Interval 1\n"
     ]
    }
   ],
   "source": [
    "for i in range(0, len(all_mse_1)):\n",
    "    print('MSE of Interval 10 = {} Interval 1'.format(round(all_mse_10[i]/all_mse_1[i], 1)))"
   ]
  }
 ],
 "metadata": {
  "kernelspec": {
   "display_name": "Python 3",
   "language": "python",
   "name": "python3"
  },
  "language_info": {
   "codemirror_mode": {
    "name": "ipython",
    "version": 3
   },
   "file_extension": ".py",
   "mimetype": "text/x-python",
   "name": "python",
   "nbconvert_exporter": "python",
   "pygments_lexer": "ipython3",
   "version": "3.6.8"
  }
 },
 "nbformat": 4,
 "nbformat_minor": 1
}
