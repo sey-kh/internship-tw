{
 "cells": [
  {
   "cell_type": "code",
   "execution_count": 1,
   "metadata": {
    "scrolled": true
   },
   "outputs": [
    {
     "name": "stderr",
     "output_type": "stream",
     "text": [
      "Using TensorFlow backend.\n"
     ]
    }
   ],
   "source": [
    "import numpy as np # linear algebra\n",
    "import pandas as pd # data processing, CSV file I/O (e.g. pd.read_csv)\n",
    "import matplotlib.pyplot as plt\n",
    "plt.style.use('fivethirtyeight')\n",
    "from sklearn.preprocessing import MinMaxScaler\n",
    "from keras.models import Sequential\n",
    "from keras.layers import Dense, Dropout, GRU, Bidirectional, LSTM\n",
    "from keras.optimizers import SGD\n",
    "import math\n",
    "from sklearn.metrics import mean_squared_error\n",
    "import keras"
   ]
  },
  {
   "cell_type": "code",
   "execution_count": 2,
   "metadata": {},
   "outputs": [],
   "source": [
    "# Load dataset from csv file\n",
    "dataset = pd.read_csv('../historical_stock_prices.csv', index_col='date', parse_dates=['date'])"
   ]
  },
  {
   "cell_type": "code",
   "execution_count": 3,
   "metadata": {},
   "outputs": [],
   "source": [
    "# Separate train/test\n",
    "trainSet = dataset['2015':'2017'].sort_values(by=['ticker','date'])\n",
    "testSet = dataset['2018':].sort_values(by=['ticker','date'])"
   ]
  },
  {
   "cell_type": "code",
   "execution_count": 6,
   "metadata": {},
   "outputs": [
    {
     "data": {
      "text/html": [
       "<div>\n",
       "<style scoped>\n",
       "    .dataframe tbody tr th:only-of-type {\n",
       "        vertical-align: middle;\n",
       "    }\n",
       "\n",
       "    .dataframe tbody tr th {\n",
       "        vertical-align: top;\n",
       "    }\n",
       "\n",
       "    .dataframe thead th {\n",
       "        text-align: right;\n",
       "    }\n",
       "</style>\n",
       "<table border=\"1\" class=\"dataframe\">\n",
       "  <thead>\n",
       "    <tr style=\"text-align: right;\">\n",
       "      <th></th>\n",
       "      <th>ticker</th>\n",
       "      <th>open</th>\n",
       "      <th>close</th>\n",
       "      <th>adj_close</th>\n",
       "      <th>low</th>\n",
       "      <th>high</th>\n",
       "      <th>volume</th>\n",
       "    </tr>\n",
       "    <tr>\n",
       "      <th>date</th>\n",
       "      <th></th>\n",
       "      <th></th>\n",
       "      <th></th>\n",
       "      <th></th>\n",
       "      <th></th>\n",
       "      <th></th>\n",
       "      <th></th>\n",
       "    </tr>\n",
       "  </thead>\n",
       "  <tbody>\n",
       "    <tr>\n",
       "      <th>2015-01-02</th>\n",
       "      <td>A</td>\n",
       "      <td>41.180000</td>\n",
       "      <td>40.560001</td>\n",
       "      <td>39.161114</td>\n",
       "      <td>40.369999</td>\n",
       "      <td>41.310001</td>\n",
       "      <td>1529200</td>\n",
       "    </tr>\n",
       "    <tr>\n",
       "      <th>2015-01-05</th>\n",
       "      <td>A</td>\n",
       "      <td>40.320000</td>\n",
       "      <td>39.799999</td>\n",
       "      <td>38.427319</td>\n",
       "      <td>39.700001</td>\n",
       "      <td>40.459999</td>\n",
       "      <td>2041800</td>\n",
       "    </tr>\n",
       "    <tr>\n",
       "      <th>2015-01-06</th>\n",
       "      <td>A</td>\n",
       "      <td>39.810001</td>\n",
       "      <td>39.180000</td>\n",
       "      <td>37.828701</td>\n",
       "      <td>39.020000</td>\n",
       "      <td>40.020000</td>\n",
       "      <td>2080600</td>\n",
       "    </tr>\n",
       "    <tr>\n",
       "      <th>2015-01-07</th>\n",
       "      <td>A</td>\n",
       "      <td>39.520000</td>\n",
       "      <td>39.700001</td>\n",
       "      <td>38.330769</td>\n",
       "      <td>39.290001</td>\n",
       "      <td>39.810001</td>\n",
       "      <td>3359700</td>\n",
       "    </tr>\n",
       "    <tr>\n",
       "      <th>2015-01-08</th>\n",
       "      <td>A</td>\n",
       "      <td>40.240002</td>\n",
       "      <td>40.889999</td>\n",
       "      <td>39.479725</td>\n",
       "      <td>40.180000</td>\n",
       "      <td>40.980000</td>\n",
       "      <td>2116300</td>\n",
       "    </tr>\n",
       "  </tbody>\n",
       "</table>\n",
       "</div>"
      ],
      "text/plain": [
       "           ticker       open      close  adj_close        low       high  \\\n",
       "date                                                                       \n",
       "2015-01-02      A  41.180000  40.560001  39.161114  40.369999  41.310001   \n",
       "2015-01-05      A  40.320000  39.799999  38.427319  39.700001  40.459999   \n",
       "2015-01-06      A  39.810001  39.180000  37.828701  39.020000  40.020000   \n",
       "2015-01-07      A  39.520000  39.700001  38.330769  39.290001  39.810001   \n",
       "2015-01-08      A  40.240002  40.889999  39.479725  40.180000  40.980000   \n",
       "\n",
       "             volume  \n",
       "date                 \n",
       "2015-01-02  1529200  \n",
       "2015-01-05  2041800  \n",
       "2015-01-06  2080600  \n",
       "2015-01-07  3359700  \n",
       "2015-01-08  2116300  "
      ]
     },
     "execution_count": 6,
     "metadata": {},
     "output_type": "execute_result"
    }
   ],
   "source": [
    "trainSet.head()"
   ]
  },
  {
   "cell_type": "code",
   "execution_count": 7,
   "metadata": {},
   "outputs": [],
   "source": [
    "# All symbols\n",
    "symbols = trainSet.ticker.unique()"
   ]
  },
  {
   "cell_type": "code",
   "execution_count": 8,
   "metadata": {},
   "outputs": [],
   "source": [
    "timesteps = 60\n",
    "def make_samples(\n",
    "    data_1,\n",
    "    data_2,\n",
    "    s):\n",
    "    \n",
    "    stop_append = {}\n",
    "    for i in prediction_intervals:\n",
    "        stop_append.update({i:False}) \n",
    "    l = len(data_1)\n",
    "    for i in range(timesteps, l):\n",
    "        x_1 = data_1[i-timesteps: i, 0]\n",
    "        x_2 = data_2[i-timesteps:i, 0]\n",
    "\n",
    "        for j in stop_append:\n",
    "            if not stop_append[j]:\n",
    "                if i+j-1 < l:\n",
    "                    y = data_1[i+j-1,0]\n",
    "                    y = y.reshape(-1,1)\n",
    "                    x_1 = x_1.reshape(-1,1)\n",
    "                    x_2 = x_2.reshape(-1,1)\n",
    "                    # Normalize every samples\n",
    "                    sc = MinMaxScaler(feature_range=(0,1))\n",
    "                    sc.partial_fit(x_1)\n",
    "                    sc.partial_fit(y)\n",
    "                    \n",
    "                    train_set[s]['x_1'][j].append(sc.transform(x_1))\n",
    "                    train_set[s]['y'][j].append(sc.transform(y))\n",
    "                    sc = MinMaxScaler(feature_range=(0,1))\n",
    "                    train_set[s]['x_2'][j].append(sc.fit_transform(x_2))\n",
    "                    \n",
    "                    if y == data_1[l-1,0]:\n",
    "                        stop_append[j] =True"
   ]
  },
  {
   "cell_type": "code",
   "execution_count": 9,
   "metadata": {},
   "outputs": [
    {
     "ename": "KeyboardInterrupt",
     "evalue": "",
     "output_type": "error",
     "traceback": [
      "\u001b[1;31m---------------------------------------------------------------------------\u001b[0m",
      "\u001b[1;31mKeyboardInterrupt\u001b[0m                         Traceback (most recent call last)",
      "\u001b[1;32m<ipython-input-9-efd41bf1be3e>\u001b[0m in \u001b[0;36m<module>\u001b[1;34m\u001b[0m\n\u001b[0;32m     20\u001b[0m         \u001b[0mdata_1\u001b[0m\u001b[1;33m,\u001b[0m\u001b[1;33m\u001b[0m\u001b[1;33m\u001b[0m\u001b[0m\n\u001b[0;32m     21\u001b[0m         \u001b[0mdata_2\u001b[0m\u001b[1;33m,\u001b[0m\u001b[1;33m\u001b[0m\u001b[1;33m\u001b[0m\u001b[0m\n\u001b[1;32m---> 22\u001b[1;33m         s)\n\u001b[0m\u001b[0;32m     23\u001b[0m     \u001b[1;32mif\u001b[0m \u001b[0mt\u001b[0m \u001b[1;33m==\u001b[0m \u001b[1;36m2000\u001b[0m\u001b[1;33m:\u001b[0m\u001b[1;33m\u001b[0m\u001b[1;33m\u001b[0m\u001b[0m\n\u001b[0;32m     24\u001b[0m         \u001b[1;32mbreak\u001b[0m\u001b[1;33m\u001b[0m\u001b[1;33m\u001b[0m\u001b[0m\n",
      "\u001b[1;32m<ipython-input-8-07fca502f6fe>\u001b[0m in \u001b[0;36mmake_samples\u001b[1;34m(data_1, data_2, s)\u001b[0m\n\u001b[0;32m     23\u001b[0m                     \u001b[0msc\u001b[0m \u001b[1;33m=\u001b[0m \u001b[0mMinMaxScaler\u001b[0m\u001b[1;33m(\u001b[0m\u001b[0mfeature_range\u001b[0m\u001b[1;33m=\u001b[0m\u001b[1;33m(\u001b[0m\u001b[1;36m0\u001b[0m\u001b[1;33m,\u001b[0m\u001b[1;36m1\u001b[0m\u001b[1;33m)\u001b[0m\u001b[1;33m)\u001b[0m\u001b[1;33m\u001b[0m\u001b[1;33m\u001b[0m\u001b[0m\n\u001b[0;32m     24\u001b[0m                     \u001b[0msc\u001b[0m\u001b[1;33m.\u001b[0m\u001b[0mpartial_fit\u001b[0m\u001b[1;33m(\u001b[0m\u001b[0mx_1\u001b[0m\u001b[1;33m)\u001b[0m\u001b[1;33m\u001b[0m\u001b[1;33m\u001b[0m\u001b[0m\n\u001b[1;32m---> 25\u001b[1;33m                     \u001b[0msc\u001b[0m\u001b[1;33m.\u001b[0m\u001b[0mpartial_fit\u001b[0m\u001b[1;33m(\u001b[0m\u001b[0my\u001b[0m\u001b[1;33m)\u001b[0m\u001b[1;33m\u001b[0m\u001b[1;33m\u001b[0m\u001b[0m\n\u001b[0m\u001b[0;32m     26\u001b[0m \u001b[1;33m\u001b[0m\u001b[0m\n\u001b[0;32m     27\u001b[0m                     \u001b[0mtrain_set\u001b[0m\u001b[1;33m[\u001b[0m\u001b[0ms\u001b[0m\u001b[1;33m]\u001b[0m\u001b[1;33m[\u001b[0m\u001b[1;34m'x_1'\u001b[0m\u001b[1;33m]\u001b[0m\u001b[1;33m[\u001b[0m\u001b[0mj\u001b[0m\u001b[1;33m]\u001b[0m\u001b[1;33m.\u001b[0m\u001b[0mappend\u001b[0m\u001b[1;33m(\u001b[0m\u001b[0msc\u001b[0m\u001b[1;33m.\u001b[0m\u001b[0mtransform\u001b[0m\u001b[1;33m(\u001b[0m\u001b[0mx_1\u001b[0m\u001b[1;33m)\u001b[0m\u001b[1;33m)\u001b[0m\u001b[1;33m\u001b[0m\u001b[1;33m\u001b[0m\u001b[0m\n",
      "\u001b[1;32m~\\Anaconda3\\envs\\pisey-env\\lib\\site-packages\\sklearn\\preprocessing\\data.py\u001b[0m in \u001b[0;36mpartial_fit\u001b[1;34m(self, X, y)\u001b[0m\n\u001b[0;32m    351\u001b[0m         X = check_array(X, copy=self.copy,\n\u001b[0;32m    352\u001b[0m                         \u001b[0mestimator\u001b[0m\u001b[1;33m=\u001b[0m\u001b[0mself\u001b[0m\u001b[1;33m,\u001b[0m \u001b[0mdtype\u001b[0m\u001b[1;33m=\u001b[0m\u001b[0mFLOAT_DTYPES\u001b[0m\u001b[1;33m,\u001b[0m\u001b[1;33m\u001b[0m\u001b[1;33m\u001b[0m\u001b[0m\n\u001b[1;32m--> 353\u001b[1;33m                         force_all_finite=\"allow-nan\")\n\u001b[0m\u001b[0;32m    354\u001b[0m \u001b[1;33m\u001b[0m\u001b[0m\n\u001b[0;32m    355\u001b[0m         \u001b[0mdata_min\u001b[0m \u001b[1;33m=\u001b[0m \u001b[0mnp\u001b[0m\u001b[1;33m.\u001b[0m\u001b[0mnanmin\u001b[0m\u001b[1;33m(\u001b[0m\u001b[0mX\u001b[0m\u001b[1;33m,\u001b[0m \u001b[0maxis\u001b[0m\u001b[1;33m=\u001b[0m\u001b[1;36m0\u001b[0m\u001b[1;33m)\u001b[0m\u001b[1;33m\u001b[0m\u001b[1;33m\u001b[0m\u001b[0m\n",
      "\u001b[1;32m~\\Anaconda3\\envs\\pisey-env\\lib\\site-packages\\sklearn\\utils\\validation.py\u001b[0m in \u001b[0;36mcheck_array\u001b[1;34m(array, accept_sparse, accept_large_sparse, dtype, order, copy, force_all_finite, ensure_2d, allow_nd, ensure_min_samples, ensure_min_features, warn_on_dtype, estimator)\u001b[0m\n\u001b[0;32m    564\u001b[0m \u001b[1;33m\u001b[0m\u001b[0m\n\u001b[0;32m    565\u001b[0m     \u001b[1;32mif\u001b[0m \u001b[0mcopy\u001b[0m \u001b[1;32mand\u001b[0m \u001b[0mnp\u001b[0m\u001b[1;33m.\u001b[0m\u001b[0mmay_share_memory\u001b[0m\u001b[1;33m(\u001b[0m\u001b[0marray\u001b[0m\u001b[1;33m,\u001b[0m \u001b[0marray_orig\u001b[0m\u001b[1;33m)\u001b[0m\u001b[1;33m:\u001b[0m\u001b[1;33m\u001b[0m\u001b[1;33m\u001b[0m\u001b[0m\n\u001b[1;32m--> 566\u001b[1;33m         \u001b[0marray\u001b[0m \u001b[1;33m=\u001b[0m \u001b[0mnp\u001b[0m\u001b[1;33m.\u001b[0m\u001b[0marray\u001b[0m\u001b[1;33m(\u001b[0m\u001b[0marray\u001b[0m\u001b[1;33m,\u001b[0m \u001b[0mdtype\u001b[0m\u001b[1;33m=\u001b[0m\u001b[0mdtype\u001b[0m\u001b[1;33m,\u001b[0m \u001b[0morder\u001b[0m\u001b[1;33m=\u001b[0m\u001b[0morder\u001b[0m\u001b[1;33m)\u001b[0m\u001b[1;33m\u001b[0m\u001b[1;33m\u001b[0m\u001b[0m\n\u001b[0m\u001b[0;32m    567\u001b[0m \u001b[1;33m\u001b[0m\u001b[0m\n\u001b[0;32m    568\u001b[0m     if (warn_on_dtype and dtypes_orig is not None and\n",
      "\u001b[1;31mKeyboardInterrupt\u001b[0m: "
     ]
    }
   ],
   "source": [
    "# Define train_set\n",
    "train_set = {}\n",
    "prediction_intervals = [1,3,5,10]\n",
    "t = 1\n",
    "for s in symbols:\n",
    "    train_set.update({s:{\n",
    "        'x_1':{},\n",
    "        'x_2':{},\n",
    "        'y':{},\n",
    "    }})\n",
    "    for i in prediction_intervals:\n",
    "        train_set[s]['x_1'][i] = []\n",
    "        train_set[s]['x_2'][i] = []\n",
    "        train_set[s]['y'][i] = []\n",
    "    \n",
    "    data_1 = trainSet.loc[trainSet['ticker'] == s][['adj_close']].values\n",
    "    data_2 = trainSet.loc[trainSet['ticker'] == s][['volume']].values\n",
    "  \n",
    "    make_samples(\n",
    "        data_1, \n",
    "        data_2, \n",
    "        s)\n",
    "    if t == 2000:\n",
    "        break\n",
    "    t += 1"
   ]
  },
  {
   "cell_type": "code",
   "execution_count": 8,
   "metadata": {},
   "outputs": [],
   "source": [
    "# Define earlystopping callback function\n",
    "es = keras.callbacks.EarlyStopping(monitor='val_loss',patience=5, mode='min', restore_best_weights=True)"
   ]
  },
  {
   "cell_type": "code",
   "execution_count": 9,
   "metadata": {},
   "outputs": [],
   "source": [
    "def make_gru_network():\n",
    "    regressorGRU = Sequential()\n",
    "    # First GRU layer with Dropout regularisation\n",
    "    regressorGRU.add(GRU(units = 30, return_sequences = False, input_shape=(2,60), activation='tanh'))\n",
    "    regressorGRU.add(Dropout(0.3))\n",
    "    # The output layer\n",
    "    regressorGRU.add(Dense(units=1))\n",
    "    return regressorGRU"
   ]
  },
  {
   "cell_type": "markdown",
   "metadata": {},
   "source": [
    "# Training"
   ]
  },
  {
   "cell_type": "code",
   "execution_count": 10,
   "metadata": {},
   "outputs": [
    {
     "name": "stdout",
     "output_type": "stream",
     "text": [
      "(1134125, 2, 60) (1134125,)\n",
      "Fitting prediction interval 1  model\n",
      "Train on 793887 samples, validate on 340238 samples\n",
      "Epoch 1/100\n",
      "793887/793887 [==============================] - 5s 7us/step - loss: 0.0793 - val_loss: 0.0275\n",
      "Epoch 2/100\n",
      "793887/793887 [==============================] - 3s 3us/step - loss: 0.0316 - val_loss: 0.0233\n",
      "Epoch 3/100\n",
      "793887/793887 [==============================] - 3s 3us/step - loss: 0.0259 - val_loss: 0.0169\n",
      "Epoch 4/100\n",
      "793887/793887 [==============================] - 3s 3us/step - loss: 0.0233 - val_loss: 0.0184\n",
      "Epoch 5/100\n",
      "793887/793887 [==============================] - 3s 3us/step - loss: 0.0216 - val_loss: 0.0156\n",
      "Epoch 6/100\n",
      "793887/793887 [==============================] - 3s 3us/step - loss: 0.0204 - val_loss: 0.0158\n",
      "Epoch 7/100\n",
      "793887/793887 [==============================] - 3s 3us/step - loss: 0.0194 - val_loss: 0.0139\n",
      "Epoch 8/100\n",
      "793887/793887 [==============================] - 3s 3us/step - loss: 0.0187 - val_loss: 0.0165\n",
      "Epoch 9/100\n",
      "793887/793887 [==============================] - 3s 3us/step - loss: 0.0181 - val_loss: 0.0135\n",
      "Epoch 10/100\n",
      "793887/793887 [==============================] - 3s 3us/step - loss: 0.0176 - val_loss: 0.0152\n",
      "Epoch 11/100\n",
      "793887/793887 [==============================] - 3s 3us/step - loss: 0.0173 - val_loss: 0.0133\n",
      "Epoch 12/100\n",
      "793887/793887 [==============================] - 3s 3us/step - loss: 0.0168 - val_loss: 0.0142\n",
      "Epoch 13/100\n",
      "793887/793887 [==============================] - 3s 3us/step - loss: 0.0165 - val_loss: 0.0127\n",
      "Epoch 14/100\n",
      "793887/793887 [==============================] - 3s 3us/step - loss: 0.0162 - val_loss: 0.0142\n",
      "Epoch 15/100\n",
      "793887/793887 [==============================] - 3s 3us/step - loss: 0.0159 - val_loss: 0.0129\n",
      "Epoch 16/100\n",
      "793887/793887 [==============================] - 3s 3us/step - loss: 0.0157 - val_loss: 0.0131\n",
      "Epoch 17/100\n",
      "793887/793887 [==============================] - 3s 3us/step - loss: 0.0155 - val_loss: 0.0123\n",
      "Epoch 18/100\n",
      "793887/793887 [==============================] - 3s 3us/step - loss: 0.0153 - val_loss: 0.0127\n",
      "Epoch 19/100\n",
      "793887/793887 [==============================] - 3s 3us/step - loss: 0.0151 - val_loss: 0.0124\n",
      "Epoch 20/100\n",
      "793887/793887 [==============================] - 3s 3us/step - loss: 0.0150 - val_loss: 0.0134\n",
      "Epoch 21/100\n",
      "793887/793887 [==============================] - 3s 3us/step - loss: 0.0148 - val_loss: 0.0119\n",
      "Epoch 22/100\n",
      "793887/793887 [==============================] - 3s 3us/step - loss: 0.0147 - val_loss: 0.0134\n",
      "Epoch 23/100\n",
      "793887/793887 [==============================] - 3s 3us/step - loss: 0.0146 - val_loss: 0.0123\n",
      "Epoch 24/100\n",
      "793887/793887 [==============================] - 3s 3us/step - loss: 0.0145 - val_loss: 0.0129\n",
      "Epoch 25/100\n",
      "793887/793887 [==============================] - 3s 3us/step - loss: 0.0144 - val_loss: 0.0122\n",
      "Epoch 26/100\n",
      "793887/793887 [==============================] - 3s 3us/step - loss: 0.0143 - val_loss: 0.0130\n",
      "(1130230, 2, 60) (1130230,)\n",
      "Fitting prediction interval 3  model\n",
      "Train on 791161 samples, validate on 339069 samples\n",
      "Epoch 1/100\n",
      "791161/791161 [==============================] - 3s 4us/step - loss: 0.0739 - val_loss: 0.0439\n",
      "Epoch 2/100\n",
      "791161/791161 [==============================] - 3s 3us/step - loss: 0.0473 - val_loss: 0.0369\n",
      "Epoch 3/100\n",
      "791161/791161 [==============================] - 3s 3us/step - loss: 0.0416 - val_loss: 0.0325\n",
      "Epoch 4/100\n",
      "791161/791161 [==============================] - 3s 3us/step - loss: 0.0392 - val_loss: 0.0323\n",
      "Epoch 5/100\n",
      "791161/791161 [==============================] - 3s 3us/step - loss: 0.0379 - val_loss: 0.0321\n",
      "Epoch 6/100\n",
      "791161/791161 [==============================] - 3s 3us/step - loss: 0.0368 - val_loss: 0.0345\n",
      "Epoch 7/100\n",
      "791161/791161 [==============================] - 3s 3us/step - loss: 0.0359 - val_loss: 0.0321\n",
      "Epoch 8/100\n",
      "791161/791161 [==============================] - 3s 3us/step - loss: 0.0352 - val_loss: 0.0312\n",
      "Epoch 9/100\n",
      "791161/791161 [==============================] - 3s 3us/step - loss: 0.0346 - val_loss: 0.0303\n",
      "Epoch 10/100\n",
      "791161/791161 [==============================] - 3s 3us/step - loss: 0.0340 - val_loss: 0.0351\n",
      "Epoch 11/100\n",
      "791161/791161 [==============================] - 3s 3us/step - loss: 0.0336 - val_loss: 0.0288\n",
      "Epoch 12/100\n",
      "791161/791161 [==============================] - 3s 3us/step - loss: 0.0332 - val_loss: 0.0291\n",
      "Epoch 13/100\n",
      "791161/791161 [==============================] - 3s 3us/step - loss: 0.0328 - val_loss: 0.0289\n",
      "Epoch 14/100\n",
      "791161/791161 [==============================] - 3s 3us/step - loss: 0.0324 - val_loss: 0.0284\n",
      "Epoch 15/100\n",
      "791161/791161 [==============================] - 3s 3us/step - loss: 0.0321 - val_loss: 0.0305\n",
      "Epoch 16/100\n",
      "791161/791161 [==============================] - 3s 3us/step - loss: 0.0319 - val_loss: 0.0285\n",
      "Epoch 17/100\n",
      "791161/791161 [==============================] - 3s 3us/step - loss: 0.0316 - val_loss: 0.0281\n",
      "Epoch 18/100\n",
      "791161/791161 [==============================] - 3s 3us/step - loss: 0.0313 - val_loss: 0.0287\n",
      "Epoch 19/100\n",
      "791161/791161 [==============================] - 3s 3us/step - loss: 0.0311 - val_loss: 0.0279: 0s - lo\n",
      "Epoch 20/100\n",
      "791161/791161 [==============================] - 3s 3us/step - loss: 0.0309 - val_loss: 0.0289\n",
      "Epoch 21/100\n",
      "791161/791161 [==============================] - 3s 3us/step - loss: 0.0307 - val_loss: 0.0279\n",
      "Epoch 22/100\n",
      "791161/791161 [==============================] - 3s 3us/step - loss: 0.0306 - val_loss: 0.0278\n",
      "Epoch 23/100\n",
      "791161/791161 [==============================] - 3s 3us/step - loss: 0.0304 - val_loss: 0.0277\n",
      "Epoch 24/100\n",
      "791161/791161 [==============================] - 3s 3us/step - loss: 0.0302 - val_loss: 0.0278\n",
      "Epoch 25/100\n",
      "791161/791161 [==============================] - 3s 3us/step - loss: 0.0301 - val_loss: 0.0282\n",
      "Epoch 26/100\n",
      "791161/791161 [==============================] - 3s 3us/step - loss: 0.0300 - val_loss: 0.0281\n",
      "Epoch 27/100\n",
      "791161/791161 [==============================] - 3s 3us/step - loss: 0.0299 - val_loss: 0.0281\n",
      "Epoch 28/100\n",
      "791161/791161 [==============================] - 3s 3us/step - loss: 0.0298 - val_loss: 0.0279\n",
      "(1127032, 2, 60) (1127032,)\n",
      "Fitting prediction interval 5  model\n",
      "Train on 788922 samples, validate on 338110 samples\n",
      "Epoch 1/100\n",
      "788922/788922 [==============================] - 3s 4us/step - loss: 0.0808 - val_loss: 0.0512\n",
      "Epoch 2/100\n",
      "788922/788922 [==============================] - 3s 3us/step - loss: 0.0560 - val_loss: 0.0459\n",
      "Epoch 3/100\n",
      "788922/788922 [==============================] - 3s 3us/step - loss: 0.0523 - val_loss: 0.0441\n",
      "Epoch 4/100\n",
      "788922/788922 [==============================] - 3s 3us/step - loss: 0.0504 - val_loss: 0.0431\n",
      "Epoch 5/100\n",
      "788922/788922 [==============================] - 3s 3us/step - loss: 0.0490 - val_loss: 0.0425\n",
      "Epoch 6/100\n",
      "788922/788922 [==============================] - 3s 3us/step - loss: 0.0481 - val_loss: 0.0429\n",
      "Epoch 7/100\n",
      "788922/788922 [==============================] - 3s 3us/step - loss: 0.0472 - val_loss: 0.0439\n",
      "Epoch 8/100\n",
      "788922/788922 [==============================] - 3s 3us/step - loss: 0.0466 - val_loss: 0.0416\n",
      "Epoch 9/100\n",
      "788922/788922 [==============================] - 3s 3us/step - loss: 0.0459 - val_loss: 0.0412\n",
      "Epoch 10/100\n",
      "788922/788922 [==============================] - 3s 3us/step - loss: 0.0454 - val_loss: 0.0422\n",
      "Epoch 11/100\n",
      "788922/788922 [==============================] - 3s 3us/step - loss: 0.0450 - val_loss: 0.0420\n",
      "Epoch 12/100\n",
      "788922/788922 [==============================] - 3s 3us/step - loss: 0.0445 - val_loss: 0.0434\n",
      "Epoch 13/100\n",
      "788922/788922 [==============================] - 3s 3us/step - loss: 0.0442 - val_loss: 0.0427\n",
      "Epoch 14/100\n",
      "788922/788922 [==============================] - 3s 3us/step - loss: 0.0438 - val_loss: 0.0401\n",
      "Epoch 15/100\n",
      "788922/788922 [==============================] - 3s 3us/step - loss: 0.0435 - val_loss: 0.0412\n",
      "Epoch 16/100\n",
      "788922/788922 [==============================] - 3s 3us/step - loss: 0.0431 - val_loss: 0.0419\n",
      "Epoch 17/100\n",
      "788922/788922 [==============================] - 3s 3us/step - loss: 0.0429 - val_loss: 0.0403\n",
      "Epoch 18/100\n",
      "788922/788922 [==============================] - 3s 3us/step - loss: 0.0427 - val_loss: 0.0409\n",
      "Epoch 19/100\n",
      "788922/788922 [==============================] - 3s 3us/step - loss: 0.0424 - val_loss: 0.0395\n",
      "Epoch 20/100\n",
      "788922/788922 [==============================] - 3s 3us/step - loss: 0.0422 - val_loss: 0.0393\n",
      "Epoch 21/100\n",
      "788922/788922 [==============================] - 3s 3us/step - loss: 0.0420 - val_loss: 0.0398\n",
      "Epoch 22/100\n",
      "788922/788922 [==============================] - 3s 3us/step - loss: 0.0418 - val_loss: 0.0407\n",
      "Epoch 23/100\n",
      "788922/788922 [==============================] - 3s 3us/step - loss: 0.0417 - val_loss: 0.0395\n",
      "Epoch 24/100\n",
      "788922/788922 [==============================] - 3s 3us/step - loss: 0.0415 - val_loss: 0.0395\n",
      "Epoch 25/100\n",
      "788922/788922 [==============================] - 3s 3us/step - loss: 0.0414 - val_loss: 0.0392\n",
      "Epoch 26/100\n",
      "788922/788922 [==============================] - 3s 3us/step - loss: 0.0412 - val_loss: 0.0399\n",
      "Epoch 27/100\n",
      "788922/788922 [==============================] - 3s 3us/step - loss: 0.0412 - val_loss: 0.0389\n",
      "Epoch 28/100\n",
      "788922/788922 [==============================] - 3s 3us/step - loss: 0.0410 - val_loss: 0.0393\n",
      "Epoch 29/100\n",
      "788922/788922 [==============================] - 3s 3us/step - loss: 0.0409 - val_loss: 0.0390\n",
      "Epoch 30/100\n",
      "788922/788922 [==============================] - 3s 3us/step - loss: 0.0409 - val_loss: 0.0384\n",
      "Epoch 31/100\n",
      "788922/788922 [==============================] - 3s 3us/step - loss: 0.0407 - val_loss: 0.0392\n",
      "Epoch 32/100\n",
      "788922/788922 [==============================] - 3s 3us/step - loss: 0.0407 - val_loss: 0.0392\n",
      "Epoch 33/100\n",
      "788922/788922 [==============================] - 3s 3us/step - loss: 0.0406 - val_loss: 0.0393\n",
      "Epoch 34/100\n",
      "788922/788922 [==============================] - 3s 3us/step - loss: 0.0405 - val_loss: 0.0383\n",
      "Epoch 35/100\n",
      "788922/788922 [==============================] - 3s 3us/step - loss: 0.0405 - val_loss: 0.0395\n",
      "Epoch 36/100\n",
      "788922/788922 [==============================] - 3s 3us/step - loss: 0.0404 - val_loss: 0.0385\n",
      "Epoch 37/100\n",
      "788922/788922 [==============================] - 3s 3us/step - loss: 0.0404 - val_loss: 0.0388\n",
      "Epoch 38/100\n",
      "788922/788922 [==============================] - 3s 3us/step - loss: 0.0403 - val_loss: 0.0382\n",
      "Epoch 39/100\n",
      "788922/788922 [==============================] - 3s 3us/step - loss: 0.0403 - val_loss: 0.0383\n",
      "Epoch 40/100\n",
      "788922/788922 [==============================] - 3s 3us/step - loss: 0.0402 - val_loss: 0.0381\n",
      "Epoch 41/100\n",
      "788922/788922 [==============================] - 3s 3us/step - loss: 0.0402 - val_loss: 0.0380\n",
      "Epoch 42/100\n",
      "788922/788922 [==============================] - 3s 3us/step - loss: 0.0401 - val_loss: 0.0390\n",
      "Epoch 43/100\n",
      "788922/788922 [==============================] - 3s 3us/step - loss: 0.0400 - val_loss: 0.0382\n",
      "Epoch 44/100\n",
      "788922/788922 [==============================] - 3s 3us/step - loss: 0.0400 - val_loss: 0.0389\n",
      "Epoch 45/100\n",
      "788922/788922 [==============================] - 3s 3us/step - loss: 0.0400 - val_loss: 0.0378\n",
      "Epoch 46/100\n",
      "788922/788922 [==============================] - 3s 3us/step - loss: 0.0399 - val_loss: 0.0379\n",
      "Epoch 47/100\n",
      "788922/788922 [==============================] - 3s 3us/step - loss: 0.0399 - val_loss: 0.0387\n",
      "Epoch 48/100\n",
      "788922/788922 [==============================] - 3s 3us/step - loss: 0.0398 - val_loss: 0.0382\n",
      "Epoch 49/100\n",
      "788922/788922 [==============================] - 3s 3us/step - loss: 0.0398 - val_loss: 0.0380 loss: \n",
      "Epoch 50/100\n",
      "788922/788922 [==============================] - 3s 3us/step - loss: 0.0398 - val_loss: 0.0381\n",
      "(1119665, 2, 60) (1119665,)\n",
      "Fitting prediction interval 10  model\n",
      "Train on 783765 samples, validate on 335900 samples\n",
      "Epoch 1/100\n",
      "783765/783765 [==============================] - 3s 4us/step - loss: 0.1009 - val_loss: 0.0774\n",
      "Epoch 2/100\n",
      "783765/783765 [==============================] - 3s 3us/step - loss: 0.0769 - val_loss: 0.0656\n",
      "Epoch 3/100\n",
      "783765/783765 [==============================] - 3s 3us/step - loss: 0.0729 - val_loss: 0.0639\n",
      "Epoch 4/100\n",
      "783765/783765 [==============================] - 3s 3us/step - loss: 0.0706 - val_loss: 0.0629\n",
      "Epoch 5/100\n",
      "783765/783765 [==============================] - 3s 3us/step - loss: 0.0692 - val_loss: 0.0622\n",
      "Epoch 6/100\n",
      "783765/783765 [==============================] - 3s 3us/step - loss: 0.0681 - val_loss: 0.0659\n",
      "Epoch 7/100\n",
      "783765/783765 [==============================] - 3s 3us/step - loss: 0.0672 - val_loss: 0.0612\n",
      "Epoch 8/100\n",
      "783765/783765 [==============================] - 3s 3us/step - loss: 0.0664 - val_loss: 0.0618\n",
      "Epoch 9/100\n",
      "783765/783765 [==============================] - 3s 3us/step - loss: 0.0658 - val_loss: 0.0631\n",
      "Epoch 10/100\n",
      "783765/783765 [==============================] - 3s 3us/step - loss: 0.0651 - val_loss: 0.0615\n",
      "Epoch 11/100\n",
      "783765/783765 [==============================] - 3s 3us/step - loss: 0.0646 - val_loss: 0.0619\n",
      "Epoch 12/100\n",
      "783765/783765 [==============================] - 3s 3us/step - loss: 0.0640 - val_loss: 0.0605\n",
      "Epoch 13/100\n",
      "783765/783765 [==============================] - 3s 3us/step - loss: 0.0635 - val_loss: 0.0590\n",
      "Epoch 14/100\n",
      "783765/783765 [==============================] - 3s 3us/step - loss: 0.0630 - val_loss: 0.0589\n",
      "Epoch 15/100\n",
      "783765/783765 [==============================] - 3s 3us/step - loss: 0.0626 - val_loss: 0.0589\n",
      "Epoch 16/100\n",
      "783765/783765 [==============================] - 3s 3us/step - loss: 0.0623 - val_loss: 0.0591\n",
      "Epoch 17/100\n",
      "783765/783765 [==============================] - 3s 3us/step - loss: 0.0619 - val_loss: 0.0583\n",
      "Epoch 18/100\n",
      "783765/783765 [==============================] - 3s 3us/step - loss: 0.0616 - val_loss: 0.0580\n",
      "Epoch 19/100\n",
      "783765/783765 [==============================] - 3s 3us/step - loss: 0.0614 - val_loss: 0.0592\n",
      "Epoch 20/100\n",
      "783765/783765 [==============================] - 3s 3us/step - loss: 0.0611 - val_loss: 0.0582\n",
      "Epoch 21/100\n",
      "783765/783765 [==============================] - 3s 3us/step - loss: 0.0609 - val_loss: 0.0575\n",
      "Epoch 22/100\n",
      "783765/783765 [==============================] - 3s 3us/step - loss: 0.0607 - val_loss: 0.0587\n",
      "Epoch 23/100\n",
      "783765/783765 [==============================] - 3s 3us/step - loss: 0.0605 - val_loss: 0.0582\n",
      "Epoch 24/100\n",
      "783765/783765 [==============================] - 3s 3us/step - loss: 0.0603 - val_loss: 0.0572\n",
      "Epoch 25/100\n",
      "783765/783765 [==============================] - 3s 3us/step - loss: 0.0602 - val_loss: 0.0574A: \n",
      "Epoch 26/100\n",
      "783765/783765 [==============================] - 3s 3us/step - loss: 0.0600 - val_loss: 0.0571\n",
      "Epoch 27/100\n",
      "783765/783765 [==============================] - 3s 3us/step - loss: 0.0598 - val_loss: 0.0577\n",
      "Epoch 28/100\n",
      "783765/783765 [==============================] - 3s 3us/step - loss: 0.0597 - val_loss: 0.0581\n",
      "Epoch 29/100\n",
      "783765/783765 [==============================] - 3s 3us/step - loss: 0.0595 - val_loss: 0.0578\n",
      "Epoch 30/100\n",
      "783765/783765 [==============================] - 3s 3us/step - loss: 0.0594 - val_loss: 0.0579\n",
      "Epoch 31/100\n",
      "783765/783765 [==============================] - 3s 3us/step - loss: 0.0593 - val_loss: 0.0571\n"
     ]
    }
   ],
   "source": [
    "# Training model with two features in train_set\n",
    "model = {}\n",
    "model_history = {}\n",
    "for i in prediction_intervals:\n",
    "    model[i] = make_gru_network()\n",
    "    model[i].compile(optimizer='rmsprop', loss='mean_squared_error')\n",
    "    \n",
    "    n_epoch = 100\n",
    "    x_train = []\n",
    "    y_train = []\n",
    "    \n",
    "    for s in train_set:\n",
    "        for j in range (0, len(train_set[s]['x_1'][i])):\n",
    "            x = [\n",
    "                train_set[s]['x_1'][i][j],\n",
    "                train_set[s]['x_2'][i][j],\n",
    "            ]\n",
    "            x_train.append(x)\n",
    "        for j in train_set[s]['y'][i]:\n",
    "            y_train.append(j)\n",
    "    X_train, Y_train = np.array(x_train), np.array(y_train)\n",
    "    X_train = X_train.reshape(X_train.shape[0], X_train.shape[1], X_train.shape[2])\n",
    "    Y_train = Y_train.reshape(Y_train.shape[0])\n",
    "    \n",
    "    print(X_train.shape, Y_train.shape)\n",
    "    print('Fitting prediction interval {}  model'.format(i))\n",
    "    model_history[i] = model[i].fit(X_train, Y_train, epochs = n_epoch, batch_size = 6000, \n",
    "                                    validation_split = 0.3,callbacks=[es])"
   ]
  },
  {
   "cell_type": "markdown",
   "metadata": {},
   "source": [
    "## Loss Graph"
   ]
  },
  {
   "cell_type": "code",
   "execution_count": 1,
   "metadata": {},
   "outputs": [
    {
     "ename": "NameError",
     "evalue": "name 'prediction_intervals' is not defined",
     "output_type": "error",
     "traceback": [
      "\u001b[1;31m---------------------------------------------------------------------------\u001b[0m",
      "\u001b[1;31mNameError\u001b[0m                                 Traceback (most recent call last)",
      "\u001b[1;32m<ipython-input-1-8cecec2fd5c6>\u001b[0m in \u001b[0;36m<module>\u001b[1;34m\u001b[0m\n\u001b[1;32m----> 1\u001b[1;33m \u001b[1;32mfor\u001b[0m \u001b[0mi\u001b[0m \u001b[1;32min\u001b[0m \u001b[0mprediction_intervals\u001b[0m\u001b[1;33m:\u001b[0m\u001b[1;33m\u001b[0m\u001b[1;33m\u001b[0m\u001b[0m\n\u001b[0m\u001b[0;32m      2\u001b[0m     \u001b[0mplt\u001b[0m\u001b[1;33m.\u001b[0m\u001b[0mplot\u001b[0m\u001b[1;33m(\u001b[0m\u001b[0mmodel_history\u001b[0m\u001b[1;33m[\u001b[0m\u001b[0mi\u001b[0m\u001b[1;33m]\u001b[0m\u001b[1;33m.\u001b[0m\u001b[0mhistory\u001b[0m\u001b[1;33m[\u001b[0m\u001b[1;34m'val_loss'\u001b[0m\u001b[1;33m]\u001b[0m\u001b[1;33m)\u001b[0m\u001b[1;33m\u001b[0m\u001b[1;33m\u001b[0m\u001b[0m\n\u001b[0;32m      3\u001b[0m     \u001b[0mplt\u001b[0m\u001b[1;33m.\u001b[0m\u001b[0mplot\u001b[0m\u001b[1;33m(\u001b[0m\u001b[0mmodel_history\u001b[0m\u001b[1;33m[\u001b[0m\u001b[0mi\u001b[0m\u001b[1;33m]\u001b[0m\u001b[1;33m.\u001b[0m\u001b[0mhistory\u001b[0m\u001b[1;33m[\u001b[0m\u001b[1;34m'loss'\u001b[0m\u001b[1;33m]\u001b[0m\u001b[1;33m)\u001b[0m\u001b[1;33m\u001b[0m\u001b[1;33m\u001b[0m\u001b[0m\n\u001b[0;32m      4\u001b[0m     \u001b[0mplt\u001b[0m\u001b[1;33m.\u001b[0m\u001b[0mtitle\u001b[0m\u001b[1;33m(\u001b[0m\u001b[1;34m'Model Loss Interval {}'\u001b[0m\u001b[1;33m.\u001b[0m\u001b[0mformat\u001b[0m\u001b[1;33m(\u001b[0m\u001b[0mi\u001b[0m\u001b[1;33m)\u001b[0m\u001b[1;33m)\u001b[0m\u001b[1;33m\u001b[0m\u001b[1;33m\u001b[0m\u001b[0m\n\u001b[0;32m      5\u001b[0m     \u001b[0mplt\u001b[0m\u001b[1;33m.\u001b[0m\u001b[0mylabel\u001b[0m\u001b[1;33m(\u001b[0m\u001b[1;34m'loss'\u001b[0m\u001b[1;33m)\u001b[0m\u001b[1;33m\u001b[0m\u001b[1;33m\u001b[0m\u001b[0m\n",
      "\u001b[1;31mNameError\u001b[0m: name 'prediction_intervals' is not defined"
     ]
    }
   ],
   "source": [
    "for i in prediction_intervals:\n",
    "    plt.plot(model_history[i].history['val_loss'])\n",
    "    plt.plot(model_history[i].history['loss'])\n",
    "    plt.title('Model Loss Interval {}'.format(i))\n",
    "    plt.ylabel('loss')\n",
    "    plt.xlabel('epoch')\n",
    "    plt.legend(['val_loss', 'loss'], loc='upper right')\n",
    "    plt.show()"
   ]
  },
  {
   "cell_type": "markdown",
   "metadata": {},
   "source": [
    "## Helper functions"
   ]
  },
  {
   "cell_type": "code",
   "execution_count": 12,
   "metadata": {},
   "outputs": [],
   "source": [
    "# Calculate Mean squared_error #\n",
    "def return_mse(test,predicted):\n",
    "    mse = mean_squared_error(test, predicted)\n",
    "    return mse"
   ]
  },
  {
   "cell_type": "code",
   "execution_count": 13,
   "metadata": {},
   "outputs": [],
   "source": [
    "# Plotting graph\n",
    "def plotting_graph(y_test, y_pred, ticker, des):\n",
    "    plt.plot(y_test, color='green', label='Actual adj_close value')\n",
    "    plt.plot(y_pred, color='red', label='Predicted adj_close value')\n",
    "    plt.title('Prediction of {} on {}'.format(ticker, des))\n",
    "    plt.xlabel('Time steps')\n",
    "    plt.ylabel('adj_close value')\n",
    "    plt.legend()\n",
    "    plt.show()"
   ]
  },
  {
   "cell_type": "markdown",
   "metadata": {},
   "source": [
    "# Predict with Test Set"
   ]
  },
  {
   "cell_type": "code",
   "execution_count": 14,
   "metadata": {},
   "outputs": [],
   "source": [
    "# Define test_set\n",
    "def make_test_data(s):\n",
    "    scaler = {s:{}}\n",
    "    test_set = {s:{}}\n",
    "    test_set.update({s:{\n",
    "            'x_1':{},\n",
    "            'x_2':{},\n",
    "            'y':{},\n",
    "        }})\n",
    "    for i in prediction_intervals:\n",
    "            test_set[s]['x_1'][i] = []\n",
    "            test_set[s]['x_2'][i] = []\n",
    "            test_set[s]['y'][i] = []\n",
    "            scaler[s][i] = []\n",
    "\n",
    "    data_1 = testSet.loc[testSet['ticker'] == s][['adj_close']].values\n",
    "    data_2 = testSet.loc[testSet['ticker'] == s][['volume']].values\n",
    "\n",
    "    stop_append = {}\n",
    "    for i in prediction_intervals:\n",
    "        stop_append.update({i:False}) \n",
    "    l = len(data_1)\n",
    "    for i in range(timesteps, l):\n",
    "        x_1 = data_1[i-timesteps: i, 0]\n",
    "        x_2 = data_2[i-timesteps:i, 0]\n",
    "        for j in stop_append:\n",
    "            if not stop_append[j]:\n",
    "                if i+j-1 < l:\n",
    "                    y = data_1[i+j-1,0]\n",
    "                    y = y.reshape(-1,1)\n",
    "                    x_1 = x_1.reshape(-1,1)\n",
    "                    x_2 = x_2.reshape(-1,1)\n",
    "                    \n",
    "                    sc = MinMaxScaler(feature_range=(0,1))\n",
    "                    sc.partial_fit(x_1)\n",
    "                    sc.partial_fit(y)\n",
    "                    scaler[s][j].append(sc)\n",
    "                    test_set[s]['x_1'][j].append(sc.transform(x_1))\n",
    "                    test_set[s]['y'][j].append(y)\n",
    "                    sc = MinMaxScaler(feature_range=(0,1))\n",
    "                    test_set[s]['x_2'][j].append(sc.fit_transform(x_2))\n",
    "                    \n",
    "                    if y == data_1[l-1,0]:\n",
    "                        stop_append[j] =True\n",
    "                    \n",
    "    return test_set, scaler"
   ]
  },
  {
   "cell_type": "code",
   "execution_count": 15,
   "metadata": {},
   "outputs": [],
   "source": [
    "def make_prediction(data, s, scaler):\n",
    "    mse_val = {}\n",
    "    y_true_val = {}\n",
    "    y_pred_val = {}\n",
    "    \n",
    "    for i in prediction_intervals:\n",
    "        x_test = []\n",
    "        for j in range (0, len(data[s]['x_1'][i])):\n",
    "            x = [\n",
    "                data[s]['x_1'][i][j],\n",
    "                data[s]['x_2'][i][j],\n",
    "            ]\n",
    "            x_test.append(x)\n",
    "\n",
    "        X_test = np.array(x_test)\n",
    "        X_test = X_test.reshape(X_test.shape[0], X_test.shape[1], X_test.shape[2])\n",
    "        \n",
    "        result = model[i].predict(X_test)\n",
    "        y_pred = []\n",
    "        for j in range(0,len(result)):\n",
    "            y = result[j]\n",
    "            y = y.reshape(-1,1)\n",
    "            k = scaler[s][i][j].inverse_transform(y)\n",
    "            y_pred.append(k[0][0])\n",
    "                    \n",
    "        y_test = data[s]['y'][i]\n",
    "        y_true = np.array(y_test)\n",
    "        y_true = y_true.reshape(y_true.shape[0])\n",
    "    \n",
    "        y_true_val[i] = y_true\n",
    "        y_pred_val[i] = y_pred\n",
    "\n",
    "        mse_val[i] = return_mse(y_true, y_pred) \n",
    "    return y_true_val, y_pred_val, mse_val"
   ]
  },
  {
   "cell_type": "markdown",
   "metadata": {},
   "source": [
    "## Predicting test sample"
   ]
  },
  {
   "cell_type": "code",
   "execution_count": 16,
   "metadata": {},
   "outputs": [
    {
     "name": "stdout",
     "output_type": "stream",
     "text": [
      "Test Set -> MSE of AAPL inveral 1: 6.172204069735329\n",
      "Test Set -> MSE of AAPL inveral 3: 18.93324673016985\n",
      "Test Set -> MSE of AAPL inveral 5: 28.806209580796217\n",
      "Test Set -> MSE of AAPL inveral 10: 59.1088592673408\n"
     ]
    }
   ],
   "source": [
    "s = 'AAPL'\n",
    "data, sc = make_test_data(s)\n",
    "y_true_val, y_pred_val, mse_val = make_prediction(data, s, sc)\n",
    "\n",
    "for i in mse_val:\n",
    "    print('Test Set -> MSE of {} inveral {}: {}'.format(s, i, mse_val[i]))"
   ]
  },
  {
   "cell_type": "code",
   "execution_count": 24,
   "metadata": {},
   "outputs": [
    {
     "data": {
      "image/png": "[encoded data removed]",
      "text/plain": [
       "<Figure size 432x288 with 1 Axes>"
      ]
     },
     "metadata": {
      "needs_background": "light"
     },
     "output_type": "display_data"
    },
    {
     "data": {
      "image/png": "[encoded data removed]",
      "text/plain": [
       "<Figure size 432x288 with 1 Axes>"
      ]
     },
     "metadata": {
      "needs_background": "light"
     },
     "output_type": "display_data"
    },
    {
     "data": {
      "image/png": "[encoded data removed]",
      "text/plain": [
       "<Figure size 432x288 with 1 Axes>"
      ]
     },
     "metadata": {
      "needs_background": "light"
     },
     "output_type": "display_data"
    },
    {
     "data": {
      "image/png": "[encoded data removed]",
      "text/plain": [
       "<Figure size 432x288 with 1 Axes>"
      ]
     },
     "metadata": {
      "needs_background": "light"
     },
     "output_type": "display_data"
    }
   ],
   "source": [
    "for i in prediction_intervals:\n",
    "    plotting_graph(y_true_val[i], y_pred_val[i], s, 'Test Set interval {}'.format(i))"
   ]
  },
  {
   "cell_type": "markdown",
   "metadata": {},
   "source": [
    "# MSE of 5 symbols"
   ]
  },
  {
   "cell_type": "code",
   "execution_count": 27,
   "metadata": {},
   "outputs": [],
   "source": [
    "test_symbols = ['A', 'ACER', 'MSFT', 'ABC', 'AAPL']"
   ]
  },
  {
   "cell_type": "code",
   "execution_count": 28,
   "metadata": {},
   "outputs": [],
   "source": [
    "all_mse = {}\n",
    "for s in test_symbols:\n",
    "    all_mse[s] = {}\n",
    "    data, sc = make_test_data(s)\n",
    "    y_true_val, y_pred_val, mse_val = make_prediction(data, s, sc)\n",
    "    for i in prediction_intervals:\n",
    "        all_mse[s][i] = mse_val[i]\n",
    "        all_mse[s][i] = mse_val[i]"
   ]
  },
  {
   "cell_type": "code",
   "execution_count": 31,
   "metadata": {},
   "outputs": [],
   "source": [
    "all_mse_1 = []\n",
    "all_mse_3 = []\n",
    "all_mse_5 = []\n",
    "all_mse_10 = []\n",
    "for s in all_mse:\n",
    "    all_mse_1.append(round(all_mse[s][1], 2))\n",
    "    all_mse_3.append(round(all_mse[s][3], 2))\n",
    "    all_mse_5.append(round(all_mse[s][5], 2))\n",
    "    all_mse_10.append(round(all_mse[s][10], 2))"
   ]
  },
  {
   "cell_type": "code",
   "execution_count": 32,
   "metadata": {},
   "outputs": [
    {
     "data": {
      "text/plain": [
       "[1.12, 0.81, 1.39, 2.3, 6.17]"
      ]
     },
     "execution_count": 32,
     "metadata": {},
     "output_type": "execute_result"
    }
   ],
   "source": [
    "# MSE of interval 1\n",
    "all_mse_1"
   ]
  },
  {
   "cell_type": "code",
   "execution_count": 33,
   "metadata": {},
   "outputs": [
    {
     "data": {
      "text/plain": [
       "[2.7, 1.83, 2.64, 6.24, 18.93]"
      ]
     },
     "execution_count": 33,
     "metadata": {},
     "output_type": "execute_result"
    }
   ],
   "source": [
    "all_mse_3"
   ]
  },
  {
   "cell_type": "code",
   "execution_count": 34,
   "metadata": {},
   "outputs": [
    {
     "data": {
      "text/plain": [
       "[3.5, 2.67, 3.81, 9.77, 28.81]"
      ]
     },
     "execution_count": 34,
     "metadata": {},
     "output_type": "execute_result"
    }
   ],
   "source": [
    "all_mse_5"
   ]
  },
  {
   "cell_type": "code",
   "execution_count": 35,
   "metadata": {},
   "outputs": [
    {
     "data": {
      "text/plain": [
       "[4.37, 3.49, 7.44, 17.83, 59.11]"
      ]
     },
     "execution_count": 35,
     "metadata": {},
     "output_type": "execute_result"
    }
   ],
   "source": [
    "all_mse_10"
   ]
  }
 ],
 "metadata": {
  "kernelspec": {
   "display_name": "Python 3",
   "language": "python",
   "name": "python3"
  },
  "language_info": {
   "codemirror_mode": {
    "name": "ipython",
    "version": 3
   },
   "file_extension": ".py",
   "mimetype": "text/x-python",
   "name": "python",
   "nbconvert_exporter": "python",
   "pygments_lexer": "ipython3",
   "version": "3.6.8"
  }
 },
 "nbformat": 4,
 "nbformat_minor": 1
}
