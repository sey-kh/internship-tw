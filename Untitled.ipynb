{
 "cells": [
  {
   "cell_type": "code",
   "execution_count": 1,
   "metadata": {},
   "outputs": [],
   "source": [
    "import numpy as np"
   ]
  },
  {
   "cell_type": "code",
   "execution_count": 16,
   "metadata": {},
   "outputs": [],
   "source": [
    "df = np.array([[1,2,3,4,5,6,7,8,9,10,11,12,13,14,15,16,17,18,19,20,21,22,23,24]])\n",
    "# Consider we have 3 stocks A,B,C and array elements is adj_close\n",
    "# A = [1,2,3,4]\n",
    "# B = [5,6,7,8,9,10,11,12]\n",
    "# C = [13,14,15,16,17,18,19,20,21,22,23,24]"
   ]
  },
  {
   "cell_type": "code",
   "execution_count": 3,
   "metadata": {},
   "outputs": [],
   "source": [
    "# We need to calculate t (timesteps) where\n",
    "# len(A)%t = 0 & len(B)%t = 0 len(C)%t = 0\n",
    "# and t is the smallest value respect to above constraint\n",
    "# So for our case t = 2"
   ]
  },
  {
   "cell_type": "code",
   "execution_count": 17,
   "metadata": {},
   "outputs": [],
   "source": [
    "no_stocks = [4,8,12]\n",
    "t = 2"
   ]
  },
  {
   "cell_type": "code",
   "execution_count": 18,
   "metadata": {},
   "outputs": [
    {
     "name": "stdout",
     "output_type": "stream",
     "text": [
      "[3, 11, 23]\n"
     ]
    }
   ],
   "source": [
    "# We need to know the index of last element of each stokcs in order to eliminate t error samples\n",
    "k = [no_stocks[0]-1]\n",
    "for i in range(1,len(no_stocks)):\n",
    "    k.append(no_stocks[i]+no_stocks[i-1] -1)\n",
    "    no_stocks[i] = no_stocks[i]+no_stocks[i-1]\n",
    "print(k)"
   ]
  },
  {
   "cell_type": "code",
   "execution_count": 19,
   "metadata": {},
   "outputs": [],
   "source": [
    "df = df.reshape(-1, 1)"
   ]
  },
  {
   "cell_type": "code",
   "execution_count": 20,
   "metadata": {},
   "outputs": [],
   "source": [
    "# There are t error samples from one stock to another stock\n",
    "j = t\n",
    "x_train = []\n",
    "y_train = []\n",
    "for i in range(t, len(df)):\n",
    "    # To eliminate t error samples\n",
    "    if j < t:\n",
    "        j += 1\n",
    "        continue\n",
    "    if (df[i-1,0] in [\n",
    "        df[k[0],0],\n",
    "        df[k[1],0]]):\n",
    "        j = 1\n",
    "    ##############################\n",
    "    else:\n",
    "        x_train.append(df[i-t:i,0])\n",
    "        y_train.append(df[i,0])"
   ]
  },
  {
   "cell_type": "code",
   "execution_count": 23,
   "metadata": {},
   "outputs": [],
   "source": [
    "# For this case t error samples are\n",
    "# x_train = [[3,4],[4,5],[11,12],[12,13]]\n",
    "# y_train = [5,6,13,14]"
   ]
  },
  {
   "cell_type": "code",
   "execution_count": 21,
   "metadata": {},
   "outputs": [
    {
     "data": {
      "text/plain": [
       "[array([1, 2]),\n",
       " array([2, 3]),\n",
       " array([5, 6]),\n",
       " array([6, 7]),\n",
       " array([7, 8]),\n",
       " array([8, 9]),\n",
       " array([ 9, 10]),\n",
       " array([10, 11]),\n",
       " array([13, 14]),\n",
       " array([14, 15]),\n",
       " array([15, 16]),\n",
       " array([16, 17]),\n",
       " array([17, 18]),\n",
       " array([18, 19]),\n",
       " array([19, 20]),\n",
       " array([20, 21]),\n",
       " array([21, 22]),\n",
       " array([22, 23])]"
      ]
     },
     "execution_count": 21,
     "metadata": {},
     "output_type": "execute_result"
    }
   ],
   "source": [
    "x_train"
   ]
  },
  {
   "cell_type": "code",
   "execution_count": 22,
   "metadata": {},
   "outputs": [
    {
     "data": {
      "text/plain": [
       "[3, 4, 7, 8, 9, 10, 11, 12, 15, 16, 17, 18, 19, 20, 21, 22, 23, 24]"
      ]
     },
     "execution_count": 22,
     "metadata": {},
     "output_type": "execute_result"
    }
   ],
   "source": [
    "y_train"
   ]
  }
 ],
 "metadata": {
  "kernelspec": {
   "display_name": "Python 3",
   "language": "python",
   "name": "python3"
  },
  "language_info": {
   "codemirror_mode": {
    "name": "ipython",
    "version": 3
   },
   "file_extension": ".py",
   "mimetype": "text/x-python",
   "name": "python",
   "nbconvert_exporter": "python",
   "pygments_lexer": "ipython3",
   "version": "3.7.2"
  }
 },
 "nbformat": 4,
 "nbformat_minor": 2
}
