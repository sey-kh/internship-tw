{
 "cells": [
  {
   "cell_type": "code",
   "execution_count": 59,
   "metadata": {
    "_cell_guid": "b1076dfc-b9ad-4769-8c92-a6c4dae69d19",
    "_uuid": "8f2839f25d086af736a60e9eeb907d3b93b6e0e5"
   },
   "outputs": [],
   "source": [
    "import numpy as np # linear algebra\n",
    "import pandas as pd # data processing, CSV file I/O (e.g. pd.read_csv)\n",
    "import numpy as np\n",
    "import matplotlib.pyplot as plt\n",
    "plt.style.use('fivethirtyeight')\n",
    "from sklearn.preprocessing import MinMaxScaler\n",
    "from keras.models import Sequential\n",
    "from keras.layers import Dense, Dropout, GRU, Bidirectional\n",
    "from keras.optimizers import SGD\n",
    "import math\n",
    "from sklearn.metrics import mean_squared_error\n",
    "import keras"
   ]
  },
  {
   "cell_type": "code",
   "execution_count": 60,
   "metadata": {},
   "outputs": [],
   "source": [
    "# Read data from csv file, consider column 'date' as index and parse it into date object\n",
    "dataset = pd.read_csv('historical_stock_prices.csv', index_col='date', parse_dates=['date'])"
   ]
  },
  {
   "cell_type": "code",
   "execution_count": 68,
   "metadata": {},
   "outputs": [],
   "source": [
    "# Selecting training_set from begining of 2015 till end of 2017, we can do this because our index in date object\n",
    "# and selecting test_set from begining of 2018 onwards\n",
    "training_data = dataset['2015':'2017'].sort_values(by=['ticker','date'])\n",
    "test_data = dataset['2018':].sort_values(by=['ticker','date'])"
   ]
  },
  {
   "cell_type": "code",
   "execution_count": 69,
   "metadata": {},
   "outputs": [],
   "source": [
    "# It is kind of data preprocessing in order to obtain more accurancy of our model\n",
    "# Once I trained our model without transform training set I got higher loss\n",
    "sc = MinMaxScaler(feature_range=(0,1))"
   ]
  },
  {
   "cell_type": "code",
   "execution_count": 70,
   "metadata": {},
   "outputs": [],
   "source": [
    "# Preparing training_set for all stocks\n",
    "training_set = training_data[['adj_close']].values"
   ]
  },
  {
   "cell_type": "code",
   "execution_count": 76,
   "metadata": {},
   "outputs": [],
   "source": [
    "# Selecting a particular stock ('A') for test_set\n",
    "test_set = test_data.loc[test_data['ticker'] == 'A'][['adj_close']].values"
   ]
  },
  {
   "cell_type": "code",
   "execution_count": 79,
   "metadata": {},
   "outputs": [],
   "source": [
    "sc.partial_fit(training_set)\n",
    "sc.partial_fit(test_set)\n",
    "training_set_scaled = sc.transform(training_set)\n",
    "test_set_scaled = sc.transform(test_set)"
   ]
  },
  {
   "cell_type": "code",
   "execution_count": 86,
   "metadata": {},
   "outputs": [
    {
     "data": {
      "text/plain": [
       "ticker\n",
       "A       755\n",
       "AA      754\n",
       "AABA    755\n",
       "AAL     755\n",
       "AAME    696\n",
       "AAN     755\n",
       "AAOI    755\n",
       "AAON    755\n",
       "AAP     755\n",
       "AAPL    755\n",
       "AAT     755\n",
       "AAV     755\n",
       "AAWW    755\n",
       "AAXJ    755\n",
       "AAXN    755\n",
       "AB      755\n",
       "ABAC    743\n",
       "ABAX    755\n",
       "ABB     755\n",
       "ABBV    755\n",
       "ABC     755\n",
       "ABCB    755\n",
       "ABCD    755\n",
       "ABDC    755\n",
       "ABEO    755\n",
       "ABEV    755\n",
       "ABG     755\n",
       "ABIL    663\n",
       "ABIO    755\n",
       "ABM     755\n",
       "       ... \n",
       "ZAGG    755\n",
       "ZAYO    755\n",
       "ZBH     755\n",
       "ZBIO    637\n",
       "ZBK     717\n",
       "ZBRA    755\n",
       "ZEAL    100\n",
       "ZEN     755\n",
       "ZEUS    755\n",
       "ZF      755\n",
       "ZFGN    755\n",
       "ZG      755\n",
       "ZGNX    755\n",
       "ZION    755\n",
       "ZIOP    755\n",
       "ZIV     754\n",
       "ZIXI    755\n",
       "ZKIN     83\n",
       "ZLAB     71\n",
       "ZN      755\n",
       "ZNGA    755\n",
       "ZNH     753\n",
       "ZOES    755\n",
       "ZSAN    657\n",
       "ZTO     296\n",
       "ZTR     755\n",
       "ZTS     755\n",
       "ZUMZ    755\n",
       "ZYME    171\n",
       "ZYNE    607\n",
       "Name: adj_close, Length: 5493, dtype: int64"
      ]
     },
     "execution_count": 86,
     "metadata": {},
     "output_type": "execute_result"
    }
   ],
   "source": [
    "# Count entries of each stock\n",
    "tickers_entry = training_data.groupby(['ticker'])['adj_close'].count()\n",
    "tickers_entry"
   ]
  },
  {
   "cell_type": "code",
   "execution_count": 87,
   "metadata": {},
   "outputs": [],
   "source": [
    "# Define x_train y_train which timesteps is 60\n",
    "timesteps = 60\n",
    "x_train = []\n",
    "y_train = []\n",
    "s = 0\n",
    "for entries in tickers_entry:\n",
    "    j = 0\n",
    "    for i in range(timesteps, entries):\n",
    "        x_train.append(training_set_scaled[s+j:s+i,0])\n",
    "        y_train.append(training_set_scaled[s+i,0])\n",
    "        j += 1\n",
    "    s += entries"
   ]
  },
  {
   "cell_type": "code",
   "execution_count": 88,
   "metadata": {},
   "outputs": [],
   "source": [
    "# Convert into numpy array\n",
    "X_train, Y_train = np.array(x_train), np.array(y_train)"
   ]
  },
  {
   "cell_type": "code",
   "execution_count": 89,
   "metadata": {},
   "outputs": [
    {
     "data": {
      "text/plain": [
       "((3362879, 60), (3362879,))"
      ]
     },
     "execution_count": 89,
     "metadata": {},
     "output_type": "execute_result"
    }
   ],
   "source": [
    "X_train.shape, Y_train.shape"
   ]
  },
  {
   "cell_type": "code",
   "execution_count": 90,
   "metadata": {},
   "outputs": [],
   "source": [
    "# Reshaping X_train to match with our GRU network input\n",
    "X_train = np.reshape(X_train, (X_train.shape[0],X_train.shape[1],1))"
   ]
  },
  {
   "cell_type": "code",
   "execution_count": 91,
   "metadata": {},
   "outputs": [
    {
     "data": {
      "text/plain": [
       "(3362879, 60, 1)"
      ]
     },
     "execution_count": 91,
     "metadata": {},
     "output_type": "execute_result"
    }
   ],
   "source": [
    "X_train.shape"
   ]
  },
  {
   "cell_type": "code",
   "execution_count": 92,
   "metadata": {},
   "outputs": [],
   "source": [
    "# Callback function `earlystopping` to trigger while training it monitor 'loss'\n",
    "# start from first epoch it record min value of loss and if model can not find \n",
    "# lower loss value in next 3 epochs model will stop training.\n",
    "es = keras.callbacks.EarlyStopping(monitor='val_loss',patience=3, mode='min')"
   ]
  },
  {
   "cell_type": "code",
   "execution_count": 93,
   "metadata": {},
   "outputs": [],
   "source": [
    "# The GRU architecture\n",
    "# We are using Sequential model of Keras\n",
    "# Our hidden layer using activation = 'tanh' and having 50 neurons each layer\n",
    "# The output layer of fully connected layer is having only 1 neurons because we want only one output value\n",
    "\n",
    "regressorGRU = Sequential()\n",
    "# First GRU layer with Dropout regularisation\n",
    "regressorGRU.add(GRU(units=50, return_sequences=True, input_shape=(X_train.shape[1],1), activation='tanh'))\n",
    "regressorGRU.add(Dropout(0.2))\n",
    "# Second GRU layer\n",
    "regressorGRU.add(GRU(units=50, return_sequences=True, input_shape=(X_train.shape[1],1), activation='tanh'))\n",
    "regressorGRU.add(Dropout(0.2))\n",
    "# Third GRU layer\n",
    "regressorGRU.add(GRU(units=50, return_sequences=True, input_shape=(X_train.shape[1],1), activation='tanh'))\n",
    "regressorGRU.add(Dropout(0.2))\n",
    "# Fourth GRU layer\n",
    "regressorGRU.add(GRU(units=50, activation='tanh'))\n",
    "regressorGRU.add(Dropout(0.2))\n",
    "# The output layer\n",
    "regressorGRU.add(Dense(units=1))\n",
    "# Compiling the RNN\n",
    "regressorGRU.compile(optimizer=SGD(lr=0.01, momentum=0.9, nesterov=False),loss='mean_squared_error')\n",
    "# Fitting to the training set"
   ]
  },
  {
   "cell_type": "code",
   "execution_count": 94,
   "metadata": {},
   "outputs": [
    {
     "name": "stdout",
     "output_type": "stream",
     "text": [
      "Train on 2354015 samples, validate on 1008864 samples\n",
      "Epoch 1/30\n",
      "2354015/2354015 [==============================] - 250s 106us/step - loss: 1.7860e-07 - val_loss: 6.2141e-06\n",
      "Epoch 2/30\n",
      "2354015/2354015 [==============================] - 246s 105us/step - loss: 1.7861e-07 - val_loss: 6.2145e-06\n",
      "Epoch 3/30\n",
      "2354015/2354015 [==============================] - 245s 104us/step - loss: 1.7819e-07 - val_loss: 6.2142e-06\n",
      "Epoch 4/30\n",
      "2354015/2354015 [==============================] - 245s 104us/step - loss: 1.7916e-07 - val_loss: 6.2144e-06\n"
     ]
    },
    {
     "data": {
      "text/plain": [
       "<keras.callbacks.History at 0x2c926a8ab00>"
      ]
     },
     "execution_count": 94,
     "metadata": {},
     "output_type": "execute_result"
    }
   ],
   "source": [
    "# Training model with earlystopping callbacks function\n",
    "# It's processing 6000 sample a step66\n",
    "regressorGRU.fit(X_train,Y_train,epochs=30,batch_size=6000, callbacks=[es], validation_split=0.3)"
   ]
  },
  {
   "cell_type": "code",
   "execution_count": 129,
   "metadata": {},
   "outputs": [],
   "source": [
    "# Save model\n",
    "regressorGRU.save('gru_adj_close_price_prediction_v1.h5')"
   ]
  },
  {
   "cell_type": "markdown",
   "metadata": {},
   "source": [
    "# Helper function #"
   ]
  },
  {
   "cell_type": "code",
   "execution_count": 95,
   "metadata": {},
   "outputs": [],
   "source": [
    "# Calculate Mean squared_error #\n",
    "def return_mse(test,predicted):\n",
    "    mse = mean_squared_error(test, predicted)\n",
    "    print(\"The mean squared error is {}.\".format(mse))"
   ]
  },
  {
   "cell_type": "code",
   "execution_count": 96,
   "metadata": {},
   "outputs": [],
   "source": [
    "# Plotting graph\n",
    "def plotting_graph(y_test, y_pred, ticker):\n",
    "    plt.plot(y_test, color='green', label='Actual adj_close value')\n",
    "    plt.plot(y_pred, color='red', label='Predicted adj_close value')\n",
    "    plt.title('Prediction of {}'.format(ticker))\n",
    "    plt.xlabel('Time steps')\n",
    "    plt.ylabel('adj_close value')\n",
    "    plt.legend()\n",
    "    plt.show()"
   ]
  },
  {
   "cell_type": "markdown",
   "metadata": {},
   "source": [
    "# Predicting on Test set #"
   ]
  },
  {
   "cell_type": "code",
   "execution_count": 136,
   "metadata": {},
   "outputs": [],
   "source": [
    "# Define X_test , Y_test\n",
    "Y_test = test_set[60:]\n",
    "x_test = []\n",
    "for i in range(timesteps, len(test_set_scaled)):\n",
    "    x_test.append(test_set_scaled[i-timesteps:i, 0])\n",
    "X_test = np.array(x_test)"
   ]
  },
  {
   "cell_type": "code",
   "execution_count": 137,
   "metadata": {},
   "outputs": [],
   "source": [
    "X_test = np.reshape(X_test, (X_test.shape[0],X_test.shape[1],1))"
   ]
  },
  {
   "cell_type": "code",
   "execution_count": 138,
   "metadata": {},
   "outputs": [],
   "source": [
    "# Predicting result\n",
    "predicted_result = regressorGRU.predict(X_test)"
   ]
  },
  {
   "cell_type": "code",
   "execution_count": 139,
   "metadata": {},
   "outputs": [],
   "source": [
    "y_pred = sc.inverse_transform(predicted_result)"
   ]
  },
  {
   "cell_type": "code",
   "execution_count": 140,
   "metadata": {},
   "outputs": [
    {
     "data": {
      "image/png": "[encoded data removed]",
      "text/plain": [
       "<Figure size 432x288 with 1 Axes>"
      ]
     },
     "metadata": {},
     "output_type": "display_data"
    }
   ],
   "source": [
    "# Plotting graph\n",
    "plotting_graph(Y_test, y_pred, 'A')"
   ]
  },
  {
   "cell_type": "markdown",
   "metadata": {},
   "source": [
    "## Calculate MSE on test set ##"
   ]
  },
  {
   "cell_type": "code",
   "execution_count": 141,
   "metadata": {},
   "outputs": [
    {
     "name": "stdout",
     "output_type": "stream",
     "text": [
      "The mean squared error is 834.9886063454258.\n"
     ]
    }
   ],
   "source": [
    "# Evaluating our model\n",
    "return_mse(Y_test,y_pred)"
   ]
  },
  {
   "cell_type": "markdown",
   "metadata": {},
   "source": [
    "# Predicting on training_set #"
   ]
  },
  {
   "cell_type": "code",
   "execution_count": 202,
   "metadata": {},
   "outputs": [],
   "source": [
    "A_adj_close = training_data.loc[training_data['ticker'] == 'A'][['adj_close']].values"
   ]
  },
  {
   "cell_type": "code",
   "execution_count": 203,
   "metadata": {},
   "outputs": [],
   "source": [
    "A_adj_close_scaled = sc.transform(A_adj_close)"
   ]
  },
  {
   "cell_type": "code",
   "execution_count": 204,
   "metadata": {},
   "outputs": [],
   "source": [
    "Y = A_adj_close[60:]\n",
    "x = []\n",
    "for i in range(timesteps, len(A_adj_close_scaled)):\n",
    "    x.append(A_adj_close_scaled[i-timesteps:i,0])"
   ]
  },
  {
   "cell_type": "code",
   "execution_count": 205,
   "metadata": {},
   "outputs": [],
   "source": [
    "X = np.array(x)"
   ]
  },
  {
   "cell_type": "code",
   "execution_count": 206,
   "metadata": {},
   "outputs": [
    {
     "data": {
      "text/plain": [
       "(695, 60)"
      ]
     },
     "execution_count": 206,
     "metadata": {},
     "output_type": "execute_result"
    }
   ],
   "source": [
    "X.shape"
   ]
  },
  {
   "cell_type": "code",
   "execution_count": 207,
   "metadata": {},
   "outputs": [],
   "source": [
    "X = np.reshape(X, (X.shape[0],X.shape[1],1))"
   ]
  },
  {
   "cell_type": "code",
   "execution_count": 208,
   "metadata": {},
   "outputs": [],
   "source": [
    "predicted_result = regressorGRU.predict(X)\n",
    "y_pred_train = sc.inverse_transform(predicted_result)"
   ]
  },
  {
   "cell_type": "code",
   "execution_count": 210,
   "metadata": {},
   "outputs": [
    {
     "data": {
      "image/png": "[encoded data removed]",
      "text/plain": [
       "<Figure size 432x288 with 1 Axes>"
      ]
     },
     "metadata": {},
     "output_type": "display_data"
    }
   ],
   "source": [
    "plotting_graph(Y, y_pred_train, 'A')"
   ]
  },
  {
   "cell_type": "markdown",
   "metadata": {},
   "source": [
    "## Calculate MSE on training_set ##"
   ]
  },
  {
   "cell_type": "code",
   "execution_count": 211,
   "metadata": {},
   "outputs": [
    {
     "name": "stdout",
     "output_type": "stream",
     "text": [
      "The mean squared error is 206.34467891142523.\n"
     ]
    }
   ],
   "source": [
    "# Evaluating our model\n",
    "return_mse(Y,y_pred_train)"
   ]
  }
 ],
 "metadata": {
  "kernelspec": {
   "display_name": "Python 3",
   "language": "python",
   "name": "python3"
  },
  "language_info": {
   "codemirror_mode": {
    "name": "ipython",
    "version": 3
   },
   "file_extension": ".py",
   "mimetype": "text/x-python",
   "name": "python",
   "nbconvert_exporter": "python",
   "pygments_lexer": "ipython3",
   "version": "3.6.8"
  }
 },
 "nbformat": 4,
 "nbformat_minor": 2
}
