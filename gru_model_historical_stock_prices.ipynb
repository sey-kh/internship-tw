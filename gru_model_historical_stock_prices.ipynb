{
 "cells": [
  {
   "cell_type": "code",
   "execution_count": 3,
   "metadata": {
    "_cell_guid": "b1076dfc-b9ad-4769-8c92-a6c4dae69d19",
    "_uuid": "8f2839f25d086af736a60e9eeb907d3b93b6e0e5"
   },
   "outputs": [
    {
     "name": "stderr",
     "output_type": "stream",
     "text": [
      "Using TensorFlow backend.\n"
     ]
    }
   ],
   "source": [
    "import numpy as np # linear algebra\n",
    "import pandas as pd # data processing, CSV file I/O (e.g. pd.read_csv)\n",
    "import numpy as np\n",
    "import matplotlib.pyplot as plt\n",
    "plt.style.use('fivethirtyeight')\n",
    "from sklearn.preprocessing import MinMaxScaler\n",
    "from keras.models import Sequential\n",
    "from keras.layers import Dense, Dropout, GRU, Bidirectional\n",
    "from keras.optimizers import SGD\n",
    "import math\n",
    "from sklearn.metrics import mean_squared_error\n",
    "import keras"
   ]
  },
  {
   "cell_type": "code",
   "execution_count": 4,
   "metadata": {},
   "outputs": [],
   "source": [
    "# Read data from csv file, consider column 'date' as index and parse it into date object\n",
    "dataset = pd.read_csv('historical_stock_prices.csv', index_col='date', parse_dates=['date'])"
   ]
  },
  {
   "cell_type": "code",
   "execution_count": 5,
   "metadata": {},
   "outputs": [],
   "source": [
    "# Selecting training_set from begin of 2015 till end of 2017, we can do this because our index in date object\n",
    "training_data = dataset['2015':'2017'].sort_values('date')"
   ]
  },
  {
   "cell_type": "code",
   "execution_count": 147,
   "metadata": {},
   "outputs": [
    {
     "name": "stdout",
     "output_type": "stream",
     "text": [
      "['A' 'AA' 'AABA' ... 'ZUMZ' 'ZYME' 'ZYNE']\n"
     ]
    }
   ],
   "source": [
    "tickers = training_data.ticker.unique()\n",
    "tickers.sort()\n",
    "print(tickers)"
   ]
  },
  {
   "cell_type": "code",
   "execution_count": 24,
   "metadata": {},
   "outputs": [],
   "source": [
    "timesteps = 60\n",
    "x_train = []\n",
    "y_train = []\n",
    "\n",
    "for ticker in tickers:\n",
    "    stock = training_data.loc[training_data['ticker'] == ticker]\n",
    "    adj_close_data = stock[['adj_close']].values\n",
    "    for i in range(timesteps, len(adj_close_data)):\n",
    "        x_train.append(adj_close_data[i-timesteps:i, 0])\n",
    "        y_train.append(adj_close_data[i, 0])"
   ]
  },
  {
   "cell_type": "code",
   "execution_count": 33,
   "metadata": {},
   "outputs": [],
   "source": [
    "# Convert into numpy array format\n",
    "X_train, Y_train = np.array(x_train), np.array(y_train)"
   ]
  },
  {
   "cell_type": "code",
   "execution_count": 34,
   "metadata": {},
   "outputs": [],
   "source": [
    "# It is kind of data preprocessing in order to obtain more accurancy of our model\n",
    "# Once I trained our model without transform training set I got higher loss\n",
    "sc = MinMaxScaler(feature_range=(0,1))\n",
    "X_train_scaled = sc.fit_transform(X_train)"
   ]
  },
  {
   "cell_type": "code",
   "execution_count": 35,
   "metadata": {},
   "outputs": [],
   "source": [
    "Y_train = Y_train.reshape(-1,1)\n",
    "Y_train_scaled = sc.fit_transform(Y_train)"
   ]
  },
  {
   "cell_type": "code",
   "execution_count": 37,
   "metadata": {},
   "outputs": [
    {
     "name": "stdout",
     "output_type": "stream",
     "text": [
      "(3362879, 60) (3362879, 1)\n"
     ]
    }
   ],
   "source": [
    "print(X_train_scaled.shape, Y_train_scaled.shape)"
   ]
  },
  {
   "cell_type": "code",
   "execution_count": 38,
   "metadata": {},
   "outputs": [],
   "source": [
    "# Reshaping X_train to match with our GRU network input\n",
    "X_train_scaled = np.reshape(X_train_scaled, (X_train_scaled.shape[0],X_train_scaled.shape[1],1))"
   ]
  },
  {
   "cell_type": "code",
   "execution_count": 39,
   "metadata": {},
   "outputs": [
    {
     "data": {
      "text/plain": [
       "(3362879, 60, 1)"
      ]
     },
     "execution_count": 39,
     "metadata": {},
     "output_type": "execute_result"
    }
   ],
   "source": [
    "X_train_scaled.shape"
   ]
  },
  {
   "cell_type": "code",
   "execution_count": 40,
   "metadata": {},
   "outputs": [],
   "source": [
    "# Callback function `earlystopping` to trigger while training it monitor 'loss'\n",
    "# start from first epoch it record min value of loss and if model can not find \n",
    "# lower loss value in next 3 epochs model will stop training.\n",
    "es = keras.callbacks.EarlyStopping(monitor='loss',patience=3, mode='min')"
   ]
  },
  {
   "cell_type": "code",
   "execution_count": 41,
   "metadata": {},
   "outputs": [],
   "source": [
    "# The GRU architecture\n",
    "# We are using Sequential model of Keras\n",
    "# Our hidden layer using activation = 'tanh' and having 50 neurons each layer\n",
    "# The output layer of fully connected layer is having only 1 neurons because we want only one output value\n",
    "\n",
    "regressorGRU = Sequential()\n",
    "# First GRU layer with Dropout regularisation\n",
    "regressorGRU.add(GRU(units=50, return_sequences=True, input_shape=(X_train.shape[1],1), activation='tanh'))\n",
    "regressorGRU.add(Dropout(0.2))\n",
    "# Second GRU layer\n",
    "regressorGRU.add(GRU(units=50, return_sequences=True, input_shape=(X_train.shape[1],1), activation='tanh'))\n",
    "regressorGRU.add(Dropout(0.2))\n",
    "# Third GRU layer\n",
    "regressorGRU.add(GRU(units=50, return_sequences=True, input_shape=(X_train.shape[1],1), activation='tanh'))\n",
    "regressorGRU.add(Dropout(0.2))\n",
    "# Fourth GRU layer\n",
    "regressorGRU.add(GRU(units=50, activation='tanh'))\n",
    "regressorGRU.add(Dropout(0.2))\n",
    "# The output layer\n",
    "regressorGRU.add(Dense(units=1))\n",
    "# Compiling the RNN\n",
    "regressorGRU.compile(optimizer=SGD(lr=0.01, decay=1e-7, momentum=0.9, nesterov=False),loss='mean_squared_error')\n",
    "# Fitting to the training set"
   ]
  },
  {
   "cell_type": "code",
   "execution_count": 43,
   "metadata": {},
   "outputs": [
    {
     "name": "stdout",
     "output_type": "stream",
     "text": [
      "Epoch 1/20\n",
      "3362879/3362879 [==============================] - 301s 89us/step - loss: 2.4466e-05\n",
      "Epoch 2/20\n",
      "3362879/3362879 [==============================] - 294s 88us/step - loss: 2.4130e-05\n",
      "Epoch 3/20\n",
      "3362879/3362879 [==============================] - 294s 87us/step - loss: 2.3540e-05\n",
      "Epoch 4/20\n",
      "3362879/3362879 [==============================] - 294s 87us/step - loss: 2.3354e-05\n",
      "Epoch 5/20\n",
      "3362879/3362879 [==============================] - 294s 87us/step - loss: 2.2952e-05\n",
      "Epoch 6/20\n",
      "3362879/3362879 [==============================] - 294s 87us/step - loss: 2.2644e-05\n",
      "Epoch 7/20\n",
      "3362879/3362879 [==============================] - 294s 87us/step - loss: 2.2548e-05\n",
      "Epoch 8/20\n",
      "3362879/3362879 [==============================] - 294s 87us/step - loss: 2.2187e-05\n",
      "Epoch 9/20\n",
      "3362879/3362879 [==============================] - 294s 87us/step - loss: 2.2111e-05\n",
      "Epoch 10/20\n",
      "3362879/3362879 [==============================] - 294s 87us/step - loss: 2.1573e-05\n",
      "Epoch 11/20\n",
      "3362879/3362879 [==============================] - 294s 87us/step - loss: 2.1031e-05\n",
      "Epoch 12/20\n",
      "3362879/3362879 [==============================] - 293s 87us/step - loss: 2.0899e-05\n",
      "Epoch 13/20\n",
      "3362879/3362879 [==============================] - 293s 87us/step - loss: 2.0714e-05\n",
      "Epoch 14/20\n",
      "3362879/3362879 [==============================] - 294s 87us/step - loss: 2.0170e-05\n",
      "Epoch 15/20\n",
      "3362879/3362879 [==============================] - 294s 87us/step - loss: 2.0233e-05\n",
      "Epoch 16/20\n",
      "3362879/3362879 [==============================] - 293s 87us/step - loss: 1.9822e-05\n",
      "Epoch 17/20\n",
      "3362879/3362879 [==============================] - 293s 87us/step - loss: 1.9541e-05\n",
      "Epoch 18/20\n",
      "3362879/3362879 [==============================] - 295s 88us/step - loss: 1.9118e-05\n",
      "Epoch 19/20\n",
      "3362879/3362879 [==============================] - 296s 88us/step - loss: 1.9386e-05\n",
      "Epoch 20/20\n",
      "3362879/3362879 [==============================] - 294s 87us/step - loss: 1.9115e-05\n"
     ]
    },
    {
     "data": {
      "text/plain": [
       "<keras.callbacks.History at 0x2126bfea5c0>"
      ]
     },
     "execution_count": 43,
     "metadata": {},
     "output_type": "execute_result"
    }
   ],
   "source": [
    "# Training model with earlystopping callbacks function\n",
    "# It's processing 6000 sample a step\n",
    "regressorGRU.fit(X_train_scaled,Y_train_scaled,epochs=20,batch_size=6000, callbacks=[es])"
   ]
  },
  {
   "cell_type": "markdown",
   "metadata": {},
   "source": [
    "# Helper function #"
   ]
  },
  {
   "cell_type": "code",
   "execution_count": 385,
   "metadata": {},
   "outputs": [],
   "source": [
    "# Calculate Mean squared_error #\n",
    "def return_mse(test,predicted):\n",
    "    mse = mean_squared_error(test, predicted)\n",
    "    print(\"The mean squared error is {}.\".format(mse))"
   ]
  },
  {
   "cell_type": "code",
   "execution_count": 386,
   "metadata": {},
   "outputs": [],
   "source": [
    "# Plotting graph\n",
    "def plotting_graph(y_test, y_pred, ticker):\n",
    "    plt.plot(y_test, color='green', label='Actual adj_close value')\n",
    "    plt.plot(y_pred, color='red', label='Predicted adj_close value')\n",
    "    plt.title('Prediction of {}'.format(ticker))\n",
    "    plt.xlabel('Time steps')\n",
    "    plt.ylabel('adj_close value')\n",
    "    plt.legend()\n",
    "    plt.show()"
   ]
  },
  {
   "cell_type": "markdown",
   "metadata": {},
   "source": [
    "# Predicting on Training data #"
   ]
  },
  {
   "cell_type": "code",
   "execution_count": 389,
   "metadata": {},
   "outputs": [],
   "source": [
    "stock = training_data.loc[training_data['ticker'] == 'ZUMZ']"
   ]
  },
  {
   "cell_type": "code",
   "execution_count": 390,
   "metadata": {},
   "outputs": [
    {
     "data": {
      "text/html": [
       "<div>\n",
       "<style scoped>\n",
       "    .dataframe tbody tr th:only-of-type {\n",
       "        vertical-align: middle;\n",
       "    }\n",
       "\n",
       "    .dataframe tbody tr th {\n",
       "        vertical-align: top;\n",
       "    }\n",
       "\n",
       "    .dataframe thead th {\n",
       "        text-align: right;\n",
       "    }\n",
       "</style>\n",
       "<table border=\"1\" class=\"dataframe\">\n",
       "  <thead>\n",
       "    <tr style=\"text-align: right;\">\n",
       "      <th></th>\n",
       "      <th>ticker</th>\n",
       "      <th>open</th>\n",
       "      <th>close</th>\n",
       "      <th>adj_close</th>\n",
       "      <th>low</th>\n",
       "      <th>high</th>\n",
       "      <th>volume</th>\n",
       "    </tr>\n",
       "    <tr>\n",
       "      <th>date</th>\n",
       "      <th></th>\n",
       "      <th></th>\n",
       "      <th></th>\n",
       "      <th></th>\n",
       "      <th></th>\n",
       "      <th></th>\n",
       "      <th></th>\n",
       "    </tr>\n",
       "  </thead>\n",
       "  <tbody>\n",
       "    <tr>\n",
       "      <th>2015-01-02</th>\n",
       "      <td>ZUMZ</td>\n",
       "      <td>38.849998</td>\n",
       "      <td>38.209999</td>\n",
       "      <td>38.209999</td>\n",
       "      <td>37.520000</td>\n",
       "      <td>38.970001</td>\n",
       "      <td>180300</td>\n",
       "    </tr>\n",
       "    <tr>\n",
       "      <th>2015-01-05</th>\n",
       "      <td>ZUMZ</td>\n",
       "      <td>38.119999</td>\n",
       "      <td>38.939999</td>\n",
       "      <td>38.939999</td>\n",
       "      <td>37.970001</td>\n",
       "      <td>39.169998</td>\n",
       "      <td>242000</td>\n",
       "    </tr>\n",
       "    <tr>\n",
       "      <th>2015-01-06</th>\n",
       "      <td>ZUMZ</td>\n",
       "      <td>38.930000</td>\n",
       "      <td>38.459999</td>\n",
       "      <td>38.459999</td>\n",
       "      <td>38.110001</td>\n",
       "      <td>39.650002</td>\n",
       "      <td>232600</td>\n",
       "    </tr>\n",
       "    <tr>\n",
       "      <th>2015-01-07</th>\n",
       "      <td>ZUMZ</td>\n",
       "      <td>38.700001</td>\n",
       "      <td>40.279999</td>\n",
       "      <td>40.279999</td>\n",
       "      <td>38.560001</td>\n",
       "      <td>40.430000</td>\n",
       "      <td>315200</td>\n",
       "    </tr>\n",
       "    <tr>\n",
       "      <th>2015-01-08</th>\n",
       "      <td>ZUMZ</td>\n",
       "      <td>40.270000</td>\n",
       "      <td>41.400002</td>\n",
       "      <td>41.400002</td>\n",
       "      <td>39.599998</td>\n",
       "      <td>41.500000</td>\n",
       "      <td>627600</td>\n",
       "    </tr>\n",
       "  </tbody>\n",
       "</table>\n",
       "</div>"
      ],
      "text/plain": [
       "           ticker       open      close  adj_close        low       high  \\\n",
       "date                                                                       \n",
       "2015-01-02   ZUMZ  38.849998  38.209999  38.209999  37.520000  38.970001   \n",
       "2015-01-05   ZUMZ  38.119999  38.939999  38.939999  37.970001  39.169998   \n",
       "2015-01-06   ZUMZ  38.930000  38.459999  38.459999  38.110001  39.650002   \n",
       "2015-01-07   ZUMZ  38.700001  40.279999  40.279999  38.560001  40.430000   \n",
       "2015-01-08   ZUMZ  40.270000  41.400002  41.400002  39.599998  41.500000   \n",
       "\n",
       "            volume  \n",
       "date                \n",
       "2015-01-02  180300  \n",
       "2015-01-05  242000  \n",
       "2015-01-06  232600  \n",
       "2015-01-07  315200  \n",
       "2015-01-08  627600  "
      ]
     },
     "execution_count": 390,
     "metadata": {},
     "output_type": "execute_result"
    }
   ],
   "source": [
    "stock.head()"
   ]
  },
  {
   "cell_type": "code",
   "execution_count": 391,
   "metadata": {},
   "outputs": [],
   "source": [
    "# Define x_train and y_train\n",
    "x_train = []\n",
    "y_train = []\n",
    "adj_close_data = stock[['adj_close']].values\n",
    "for i in range(timesteps, len(adj_close_data)):\n",
    "    x_train.append(adj_close_data[i-timesteps:i, 0])\n",
    "    y_train.append(adj_close_data[i, 0])"
   ]
  },
  {
   "cell_type": "code",
   "execution_count": 392,
   "metadata": {},
   "outputs": [],
   "source": [
    "X_train, Y_train = np.array(x_train), np.array(y_train)"
   ]
  },
  {
   "cell_type": "code",
   "execution_count": 393,
   "metadata": {},
   "outputs": [
    {
     "name": "stdout",
     "output_type": "stream",
     "text": [
      "(695, 60, 1) (695, 1)\n"
     ]
    }
   ],
   "source": [
    "sc = MinMaxScaler(feature_range=(0,1))\n",
    "X_train_scaled = sc.fit_transform(X_train)\n",
    "X_train_scaled = np.reshape(X_train_scaled, (X_train_scaled.shape[0],X_train_scaled.shape[1],1))\n",
    "Y_train = Y_train.reshape(-1,1)\n",
    "Y_train_scaled = sc.fit_transform(Y_train)\n",
    "print(X_train_scaled.shape, Y_train_scaled.shape)"
   ]
  },
  {
   "cell_type": "code",
   "execution_count": 394,
   "metadata": {},
   "outputs": [],
   "source": [
    "# Predicting result\n",
    "predicted_result = regressorGRU.predict(X_train_scaled)\n",
    "predicted_adj_close = sc.inverse_transform(predicted_result)"
   ]
  },
  {
   "cell_type": "code",
   "execution_count": 395,
   "metadata": {},
   "outputs": [
    {
     "data": {
      "image/png": "[encoded data removed]",
      "text/plain": [
       "<Figure size 432x288 with 1 Axes>"
      ]
     },
     "metadata": {},
     "output_type": "display_data"
    }
   ],
   "source": [
    "# Plotting graph\n",
    "plotting_graph(Y_train, predicted_adj_close, 'ZUMZ')"
   ]
  },
  {
   "cell_type": "markdown",
   "metadata": {},
   "source": [
    "## Calculate MSE on training data ##"
   ]
  },
  {
   "cell_type": "code",
   "execution_count": 396,
   "metadata": {},
   "outputs": [
    {
     "name": "stdout",
     "output_type": "stream",
     "text": [
      "The mean squared error is 0.08755257663448938.\n"
     ]
    }
   ],
   "source": [
    "# Evaluating our model (applied fit_transform)\n",
    "return_mse(Y_train_scaled,predicted_result)"
   ]
  },
  {
   "cell_type": "code",
   "execution_count": 397,
   "metadata": {},
   "outputs": [
    {
     "name": "stdout",
     "output_type": "stream",
     "text": [
      "The mean squared error is 72.61961032037863.\n"
     ]
    }
   ],
   "source": [
    "# Evaluating our model (without fit_transform)\n",
    "return_mse(Y_train,predicted_adj_close)"
   ]
  },
  {
   "cell_type": "markdown",
   "metadata": {},
   "source": [
    "# Predicting on Test Data #"
   ]
  },
  {
   "cell_type": "code",
   "execution_count": 398,
   "metadata": {},
   "outputs": [],
   "source": [
    "# Selecting test set, consider index start from 2018 date object\n",
    "test_data = dataset['2018':].sort_values('date')"
   ]
  },
  {
   "cell_type": "code",
   "execution_count": 399,
   "metadata": {},
   "outputs": [],
   "source": [
    "stock = test_data.loc[test_data['ticker'] == 'ZUMZ']"
   ]
  },
  {
   "cell_type": "code",
   "execution_count": 400,
   "metadata": {},
   "outputs": [
    {
     "data": {
      "text/html": [
       "<div>\n",
       "<style scoped>\n",
       "    .dataframe tbody tr th:only-of-type {\n",
       "        vertical-align: middle;\n",
       "    }\n",
       "\n",
       "    .dataframe tbody tr th {\n",
       "        vertical-align: top;\n",
       "    }\n",
       "\n",
       "    .dataframe thead th {\n",
       "        text-align: right;\n",
       "    }\n",
       "</style>\n",
       "<table border=\"1\" class=\"dataframe\">\n",
       "  <thead>\n",
       "    <tr style=\"text-align: right;\">\n",
       "      <th></th>\n",
       "      <th>ticker</th>\n",
       "      <th>open</th>\n",
       "      <th>close</th>\n",
       "      <th>adj_close</th>\n",
       "      <th>low</th>\n",
       "      <th>high</th>\n",
       "      <th>volume</th>\n",
       "    </tr>\n",
       "    <tr>\n",
       "      <th>date</th>\n",
       "      <th></th>\n",
       "      <th></th>\n",
       "      <th></th>\n",
       "      <th></th>\n",
       "      <th></th>\n",
       "      <th></th>\n",
       "      <th></th>\n",
       "    </tr>\n",
       "  </thead>\n",
       "  <tbody>\n",
       "    <tr>\n",
       "      <th>2018-01-02</th>\n",
       "      <td>ZUMZ</td>\n",
       "      <td>21.450001</td>\n",
       "      <td>20.000000</td>\n",
       "      <td>20.000000</td>\n",
       "      <td>19.900000</td>\n",
       "      <td>21.450001</td>\n",
       "      <td>755600</td>\n",
       "    </tr>\n",
       "    <tr>\n",
       "      <th>2018-01-03</th>\n",
       "      <td>ZUMZ</td>\n",
       "      <td>20.000000</td>\n",
       "      <td>20.500000</td>\n",
       "      <td>20.500000</td>\n",
       "      <td>19.600000</td>\n",
       "      <td>20.629999</td>\n",
       "      <td>1364400</td>\n",
       "    </tr>\n",
       "    <tr>\n",
       "      <th>2018-01-04</th>\n",
       "      <td>ZUMZ</td>\n",
       "      <td>24.100000</td>\n",
       "      <td>22.950001</td>\n",
       "      <td>22.950001</td>\n",
       "      <td>22.350000</td>\n",
       "      <td>24.450001</td>\n",
       "      <td>1685200</td>\n",
       "    </tr>\n",
       "    <tr>\n",
       "      <th>2018-01-05</th>\n",
       "      <td>ZUMZ</td>\n",
       "      <td>23.100000</td>\n",
       "      <td>22.549999</td>\n",
       "      <td>22.549999</td>\n",
       "      <td>22.299999</td>\n",
       "      <td>23.100000</td>\n",
       "      <td>522200</td>\n",
       "    </tr>\n",
       "    <tr>\n",
       "      <th>2018-01-08</th>\n",
       "      <td>ZUMZ</td>\n",
       "      <td>22.750000</td>\n",
       "      <td>23.000000</td>\n",
       "      <td>23.000000</td>\n",
       "      <td>22.100000</td>\n",
       "      <td>23.150000</td>\n",
       "      <td>391400</td>\n",
       "    </tr>\n",
       "  </tbody>\n",
       "</table>\n",
       "</div>"
      ],
      "text/plain": [
       "           ticker       open      close  adj_close        low       high  \\\n",
       "date                                                                       \n",
       "2018-01-02   ZUMZ  21.450001  20.000000  20.000000  19.900000  21.450001   \n",
       "2018-01-03   ZUMZ  20.000000  20.500000  20.500000  19.600000  20.629999   \n",
       "2018-01-04   ZUMZ  24.100000  22.950001  22.950001  22.350000  24.450001   \n",
       "2018-01-05   ZUMZ  23.100000  22.549999  22.549999  22.299999  23.100000   \n",
       "2018-01-08   ZUMZ  22.750000  23.000000  23.000000  22.100000  23.150000   \n",
       "\n",
       "             volume  \n",
       "date                 \n",
       "2018-01-02   755600  \n",
       "2018-01-03  1364400  \n",
       "2018-01-04  1685200  \n",
       "2018-01-05   522200  \n",
       "2018-01-08   391400  "
      ]
     },
     "execution_count": 400,
     "metadata": {},
     "output_type": "execute_result"
    }
   ],
   "source": [
    "stock.head()"
   ]
  },
  {
   "cell_type": "code",
   "execution_count": 401,
   "metadata": {},
   "outputs": [],
   "source": [
    "x_test = []\n",
    "y_test = []\n",
    "adj_close_data = stock[['adj_close']].values\n",
    "for i in range(timesteps, len(adj_close_data)):\n",
    "    x_test.append(adj_close_data[i-timesteps:i, 0])\n",
    "    y_test.append(adj_close_data[i, 0])"
   ]
  },
  {
   "cell_type": "code",
   "execution_count": 402,
   "metadata": {},
   "outputs": [],
   "source": [
    "X_test, Y_test = np.array(x_test), np.array(y_test)"
   ]
  },
  {
   "cell_type": "code",
   "execution_count": 403,
   "metadata": {},
   "outputs": [],
   "source": [
    "sc = MinMaxScaler(feature_range=(0,1))\n",
    "Y_test = Y_test.reshape(-1,1)\n",
    "X_test_scaled = sc.fit_transform(X_test)\n",
    "Y_test_scaled = sc.fit_transform(Y_test)"
   ]
  },
  {
   "cell_type": "code",
   "execution_count": 404,
   "metadata": {},
   "outputs": [],
   "source": [
    "X_test_scaled = np.reshape(X_test_scaled, (X_test_scaled.shape[0],X_test_scaled.shape[1],1))"
   ]
  },
  {
   "cell_type": "code",
   "execution_count": 405,
   "metadata": {},
   "outputs": [],
   "source": [
    "predicted_result = regressorGRU.predict(X_test_scaled)\n",
    "predicted_adj_close = sc.inverse_transform(predicted_result)"
   ]
  },
  {
   "cell_type": "code",
   "execution_count": 406,
   "metadata": {},
   "outputs": [
    {
     "data": {
      "image/png": "[encoded data removed]",
      "text/plain": [
       "<Figure size 432x288 with 1 Axes>"
      ]
     },
     "metadata": {},
     "output_type": "display_data"
    }
   ],
   "source": [
    "plotting_graph(Y_test, predicted_adj_close, 'ZUMZ')"
   ]
  },
  {
   "cell_type": "markdown",
   "metadata": {},
   "source": [
    "## Calculate MSE on Test data##"
   ]
  },
  {
   "cell_type": "code",
   "execution_count": 407,
   "metadata": {},
   "outputs": [
    {
     "name": "stdout",
     "output_type": "stream",
     "text": [
      "The mean squared error is 0.2122678709272924.\n"
     ]
    }
   ],
   "source": [
    "# Evaluating our model (applied fit_transform)\n",
    "return_mse(Y_test_scaled,predicted_result)"
   ]
  },
  {
   "cell_type": "code",
   "execution_count": 408,
   "metadata": {},
   "outputs": [
    {
     "name": "stdout",
     "output_type": "stream",
     "text": [
      "The mean squared error is 18.755988142850292.\n"
     ]
    }
   ],
   "source": [
    "# Evaluating our model (without fit_transform)\n",
    "return_mse(Y_test,predicted_adj_close)"
   ]
  }
 ],
 "metadata": {
  "kernelspec": {
   "display_name": "Python 3",
   "language": "python",
   "name": "python3"
  },
  "language_info": {
   "codemirror_mode": {
    "name": "ipython",
    "version": 3
   },
   "file_extension": ".py",
   "mimetype": "text/x-python",
   "name": "python",
   "nbconvert_exporter": "python",
   "pygments_lexer": "ipython3",
   "version": "3.6.8"
  }
 },
 "nbformat": 4,
 "nbformat_minor": 1
}
